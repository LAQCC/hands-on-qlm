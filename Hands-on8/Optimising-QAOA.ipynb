{
 "cells": [
  {
   "cell_type": "markdown",
   "metadata": {},
   "source": [
    "# Hands-on 8: Circuit Optimizers\n",
    "\n",
    "Today, most hardware has connectivity and control constraints, ie only some two-qubits gates can only be executed on few pairs of qubits. Pairs of qubits that can interact define the connectivity constraints of a hardware. Solving *the swap insertion problem* consists in inserting SWAP gates in a circuit to make it compliant with connectivity constraints of a specific hardware. The QLM provides a plugin **Nnizer** implementing algorithms to solve *the swap insertion problem*. The **PBO** plugin to replace gates by realistic implementations.\n",
    "\n",
    "For our example we are going to use the previous maxcut problem used to illustrate QAOA:"
   ]
  },
  {
   "cell_type": "code",
   "execution_count": null,
   "metadata": {},
   "outputs": [],
   "source": [
    "#Import networkx \n",
    "import networkx as nx\n",
    "\n",
    "#Create our simple graph\n",
    "G = nx.Graph()\n",
    "G.add_nodes_from([0, 1, 2, 3, 4])\n",
    "G.add_edge(0, 1)\n",
    "G.add_edge(0, 4)\n",
    "G.add_edge(1, 2)\n",
    "G.add_edge(1, 4)\n",
    "G.add_edge(2, 3)\n",
    "G.add_edge(3, 4)\n",
    "\n",
    "\n",
    "#Plot our graph\n",
    "import matplotlib.pyplot as plt\n",
    "plt.figure(figsize=(8, 8))\n",
    "nodes_positions = nx.spring_layout(G, iterations=len(G.nodes())*100)\n",
    "nx.draw_networkx(G, \n",
    "                 pos=nodes_positions, \n",
    "                 node_color='#4EEA6A', \n",
    "                 node_size=440, \n",
    "                 font_size=14)\n",
    "plt.show()\n",
    "\n",
    "from qat.vsolve.qaoa import MaxCut\n",
    "problem = MaxCut(G)\n",
    "print(problem)\n",
    "ansatz = problem.qaoa_ansatz(1)"
   ]
  },
  {
   "cell_type": "markdown",
   "metadata": {},
   "source": [
    "The circuit used to begin with is the following one:"
   ]
  },
  {
   "cell_type": "code",
   "execution_count": null,
   "metadata": {},
   "outputs": [],
   "source": [
    "circuit = ansatz.circuit\n",
    "%qatdisplay XXX"
   ]
  },
  {
   "cell_type": "markdown",
   "metadata": {},
   "source": [
    "## NNizer"
   ]
  },
  {
   "cell_type": "markdown",
   "metadata": {},
   "source": [
    "**Defining hardware specifications**\n",
    "\n",
    "Connectivity constraints can be defined by the class `qat.core.Topology`. Few topologies are predefined:\n",
    " - **ALL_TO_ALL**: There is no connectivity constraints\n",
    " - **LNN**: Gates can only be applied between qubits of index $i$ and $i + 1$ ($\\forall i \\in [\\![0; n - 1]\\!]$)\n",
    " - **CUSTOM**: Custom constraints\n",
    " \n",
    "Let's define our custom topology.\n",
    "\n",
    "For instance, considering a fake quantum computer which has few connectivity constraints defined by the following graph:\n",
    "\n",
    "<img src=\"topology.png\" width=\"200px\"/>\n",
    "\n",
    "\n",
    "On this computer, two qubits gates can then only be executed using one of the following pairs: `[(0, 1), (0, 2), (1, 3), (2, 3), (2, 4), (3, 4)]` (corresponding to the edges of the previous graph)."
   ]
  },
  {
   "cell_type": "code",
   "execution_count": null,
   "metadata": {},
   "outputs": [],
   "source": [
    "#Import Topology from qat.core\n",
    "from qat.core import XXX\n",
    "\n",
    "# Define your custom topology using Topology\n",
    "my_topology = XXX()\n",
    "\n",
    "#Add the constraints corresponding to the fake quantum computer\n",
    "for i, j in [(XXX, XXX), (XXX, XXX), (XXX, XXX),\n",
    "             (XXX, XXX), (XXX, XXX), (XXX, XXX)]:\n",
    "    my_topology.add_edge(i, j)"
   ]
  },
  {
   "cell_type": "markdown",
   "metadata": {},
   "source": [
    "To make a circuit compliant with the hardware specifications, one need to manage the hardware specifications (and not only the topology).\n",
    "The Python class `qat.core.HardwareSpecs` defines specifications of an hardware. For instance, the following code defines specifications of my hardware."
   ]
  },
  {
   "cell_type": "code",
   "execution_count": null,
   "metadata": {},
   "outputs": [],
   "source": [
    "#Import HardwareSpecs from qat.core\n",
    "from qat.core import XXX\n",
    "\n",
    "# Define an hardware: 5 qubits + connectivity constraints using your topology\n",
    "my_hardware = XXX(nbqbits=XXX, topology=XXX)"
   ]
  },
  {
   "cell_type": "markdown",
   "metadata": {},
   "source": [
    "**Solving the swap insertion problem using compile method**\n",
    "\n",
    "The first way of using Nnizer is by using the compile method.\n",
    "\n",
    "To do so, we need to put our ansatz in a batch so we can feed it to Nnizer.\n",
    "\n",
    "---\n",
    "***Why the circuit is wrapped into a Job which is wrapped into a Batch?***\n",
    "\n",
    "The nnizer is a plugin, which means that the nnizer can extend a QPU. A QPU executes batches which is a set of circuits with execution parameters for each circuit (like the number of samples, the list of measured qubits, ...). Being a plugin means nnizer must receives batches\n",
    "\n",
    "---"
   ]
  },
  {
   "cell_type": "code",
   "execution_count": null,
   "metadata": {},
   "outputs": [],
   "source": [
    "#import Nnizer from qat.plugins\n",
    "from qat.plugins import XXX\n",
    "#import Batch from qat.core\n",
    "from qat.core import XXX\n",
    "\n",
    "#Create the nnizer using Nnizer and lets specify atos for the method\n",
    "nnizer = XXX(method=\"XXX\")\n",
    "\n",
    "#Use the nnizer's compile method to nnize our circuit named ansatz and specifying the hardware\n",
    "nnized_batch = nnizer.compile(Batch(jobs=[XXX]),\n",
    "                              XXX)\n",
    "\n",
    "#get the circuit to have a look at it and see the inserted SWAP gates\n",
    "nnized_ansatz_circuit = nnized_batch.jobs[0].circuit\n",
    "%qatdisplay nnized_ansatz_circuit\n",
    "print(\"Number of gates: \", len(nnized_ansatz_circuit.ops))"
   ]
  },
  {
   "cell_type": "markdown",
   "metadata": {},
   "source": [
    "Use the following cell to print the circuit before using Nnizer and see the number of gates in it:"
   ]
  },
  {
   "cell_type": "code",
   "execution_count": null,
   "metadata": {},
   "outputs": [],
   "source": [
    "%qatdisplay circuit\n",
    "print(\"Number of gates: \", len(circuit.ops))"
   ]
  },
  {
   "cell_type": "markdown",
   "metadata": {},
   "source": [
    "Using Nnizer change the final order of the qubits:"
   ]
  },
  {
   "cell_type": "code",
   "execution_count": null,
   "metadata": {},
   "outputs": [],
   "source": [
    "print(nnized_batch.jobs[0].qubits)"
   ]
  },
  {
   "cell_type": "markdown",
   "metadata": {},
   "source": [
    "To take this into account for the minimization part, you should use the previous job that's keep this information, namely nnized_batch.jobs[0].\n"
   ]
  },
  {
   "cell_type": "code",
   "execution_count": null,
   "metadata": {},
   "outputs": [],
   "source": [
    "from qat.qpus import get_default_qpu\n",
    "from qat.plugins import QuameleonPlugin\n",
    "from qat.plugins import ScipyMinimizePlugin\n",
    "\n",
    "qpu = get_default_qpu()\n",
    "qpu = QuameleonPlugin(specs=my_hardware)| qpu\n",
    "stack = ScipyMinimizePlugin(method=\"COBYLA\",\n",
    "                            tol=1e-2, \n",
    "                            options={\"maxiter\":150}) | qpu\n",
    "# We can directly call the to_job method of the Problem class to pack an Ansatz and \n",
    "# the cost observable in a single abstract Job\n",
    "\n",
    "job=nnized_batch.jobs[0]\n",
    "result = stack.submit(XXX)\n",
    "print(\"Final energy:\", result.value)\n"
   ]
  },
  {
   "cell_type": "markdown",
   "metadata": {},
   "source": [
    "One way to deal with the last step is simply to add the permutation when specifying the sampling job:"
   ]
  },
  {
   "cell_type": "code",
   "execution_count": null,
   "metadata": {},
   "outputs": [],
   "source": [
    "import numpy as np\n",
    "#Retrieving the optimized parameters:\n",
    "params = eval(result.meta_data['parameters'])\n",
    "\n",
    "#Binding the variables:\n",
    "sol_job = job(**{key: var for key, var in zip(job.get_variables(), params)})\n",
    "\n",
    "#Checking that this indeeds gives the optimized energy\n",
    "sol_res = qpu.submit(sol_job)\n",
    "print(\"Check, energy =\", sol_res.value)\n",
    "\n",
    "#Rerunning in 'SAMPLE' mode to get the most probable states:\n",
    "sampling_job = sol_job.circuit.to_job(qubits=XXX)\n",
    "sol_res = qpu.submit(sampling_job)\n",
    "print(\"Most probable states are:\")\n",
    "for sample in sol_res:\n",
    "    if sample.probability > 0.05:\n",
    "        print(sample.state, sample.probability)\n",
    "# We can also directly cast states into bitstrings for practical use:\n",
    "print(\"And as bitstrings:\")\n",
    "for sample in sol_res:\n",
    "    if sample.probability > 0.05:\n",
    "        print(sample.state.bitstring,  sample.probability)\n",
    "        indices_bin_1 = np.where(np.array(list(sample.state.bitstring), dtype=int) == 1)[0]\n",
    "        indices_bin_0 = np.where(np.array(list(sample.state.bitstring), dtype=int) == 0)[0]\n",
    "        print(\"0 list : \"+ str(indices_bin_0))\n",
    "        print(\"1 list : \" + str(indices_bin_1) + \"\\n\")\n",
    "        \n",
    "        plt.figure(figsize=(8, 8))\n",
    "        node_size = 440\n",
    "        font_size = 14\n",
    "        nx.draw_networkx(G, \n",
    "                         pos=nodes_positions, \n",
    "                         nodelist=indices_bin_1.tolist(), \n",
    "                         node_color='#FFE033', \n",
    "                         node_size=node_size, \n",
    "                         font_size=font_size)\n",
    "\n",
    "        nx.draw_networkx(G, \n",
    "                         pos=nodes_positions, \n",
    "                         nodelist=indices_bin_0.tolist(), \n",
    "                         node_color='#7B9BF2', \n",
    "                         node_size=node_size, \n",
    "                         font_size=font_size)\n",
    "\n",
    "        nx.draw_networkx_edges(G, pos=nodes_positions)\n",
    "        plt.show()\n"
   ]
  },
  {
   "cell_type": "markdown",
   "metadata": {},
   "source": [
    "**Solving the swap insertion problem by creating a stack**"
   ]
  },
  {
   "cell_type": "markdown",
   "metadata": {},
   "source": [
    "Another way of dealing with the swap insertion problem is by using a stack with Nnizer in it.\n",
    "\n",
    "First we will use QuameleonPlugin that will integrate the constraints of our targeted hardware to our stack.\n",
    "\n",
    "Once QuameleonPlugin in the stack operations that are not compliant with the constraint of the hardware will not be allowed:"
   ]
  },
  {
   "cell_type": "code",
   "execution_count": null,
   "metadata": {},
   "outputs": [],
   "source": [
    "from qat.qpus import LinAlg\n",
    "#Import QuameleonPlugin from qat.plugins\n",
    "from qat.plugins import XXX\n",
    "\n",
    "#Create a qpu with QuameleonPlugin using my_hardware as a parameter (defined previously) and LinAlg as the simulator\n",
    "qpu = QuameleonPlugin(specs=XXX)| XXX()\n",
    "\n",
    "#Now create a stack using the qpu you have just defined\n",
    "#And add to it ScipyMinimizePlugin to solve the optimization problem\n",
    "stack =  XXX(method=\"COBYLA\",\n",
    "                            tol=1e-2, \n",
    "                            options={\"maxiter\":150})| XXX\n",
    "\n",
    "from qat.comm.exceptions.ttypes import QPUException\n",
    "try:\n",
    "    #Submit your ansatz to your stack\n",
    "    result = XXX.submit(XXX)\n",
    "\n",
    "except QPUException as exception:\n",
    "    print(\"The job (not processed by the Nnizer) can't be \" +\n",
    "          \"executed by the QPU:\\n\" + exception.message)"
   ]
  },
  {
   "cell_type": "markdown",
   "metadata": {},
   "source": [
    "As you can see it is not possible to execute our circuit due to the topology.\n",
    "\n",
    "To simply solve this issue, you can add to the stack the plugin Nnizer."
   ]
  },
  {
   "cell_type": "code",
   "execution_count": null,
   "metadata": {},
   "outputs": [],
   "source": [
    "from qat.qpus import LinAlg\n",
    "from qat.plugins import ScipyMinimizePlugin\n",
    "from qat.plugins import QuameleonPlugin\n",
    "from qat.plugins import XXX\n",
    "\n",
    "qpu = QuameleonPlugin(specs=my_hardware)| LinAlg()\n",
    "stack = XXX(method=\"atos\") | ScipyMinimizePlugin(method=\"COBYLA\",\n",
    "                            tol=1e-2, \n",
    "                            options={\"maxiter\":150})| qpu\n",
    "\n",
    "result = stack.submit(ansatz)\n",
    "print(\"Final energy:\", result.value)"
   ]
  },
  {
   "cell_type": "markdown",
   "metadata": {},
   "source": [
    "As you can see the circuit can now be solve due to Nnizer making the circuit compliant with the constraints."
   ]
  },
  {
   "cell_type": "markdown",
   "metadata": {},
   "source": [
    "Few methods are implemented in **Nnize** to solve the swap insertion problem:\n",
    " - **atos**: based on a strict generalization of the algorithm described in [An Efficient Method to Convert Arbitrary Quantum Circuits to Ones on a Linear Nearest Neighbor Architecture](https://ieeexplore.ieee.org/document/4782917) by *Hirata and al.*\n",
    " - **sabre**: implementation of [Tackling the Qubit Mapping Problem for NISQ-Era Quantum Devices](https://dl.acm.org/citation.cfm?id=3304023) by *Gushu Li, Yufei Ding and Yuan Xie*\n",
    " - **bka**: implementation of [Efficient mapping of quantum circuits to the IBM QX architectures](https://ieeexplore.ieee.org/document/8342181) by *Alwin Zulehner, Alexandru Paler and Robert Wille*\n",
    " - **pbn**: based on a strict generalization of the algorithm described in [Synthesis of quantum circuits for linear nearest neighbor architectures](https://link.springer.com/article/10.1007/s11128-010-0201-2) by *Mehdi Saeedi, Robert Wille and Rolf Drechsler*\n",
    " \n",
    "We have used the **atos** algorithm to solve the problem."
   ]
  },
  {
   "cell_type": "markdown",
   "metadata": {},
   "source": [
    "To get the results as previously we just have to define a stack composed of Nnizer and the qpu so we can submit the last run with the best parameters obtained during the optimization phase."
   ]
  },
  {
   "cell_type": "code",
   "execution_count": null,
   "metadata": {},
   "outputs": [],
   "source": [
    "#Create a stack without ScipyMinimizePlugin\n",
    "stack = XXX(method=\"atos\")| qpu\n",
    "\n",
    "#Retrieving the optimized parameters:\n",
    "params = eval(result.meta_data['parameters'])\n",
    "\n",
    "#Binding the variables:\n",
    "sol_job = ansatz(**{key: var for key, var in zip(ansatz.get_variables(), params)})\n",
    "\n",
    "#Checking that this indeeds gives the optimized energy\n",
    "sol_res = stack.submit(sol_job)\n",
    "print(\"Check, energy =\", sol_res.value)\n",
    "\n",
    "#Rerunning in 'SAMPLE' mode to get the most probable states:\n",
    "sampling_job = sol_job.circuit.to_job()\n",
    "sol_res = stack.submit(sampling_job)\n",
    "print(\"Most probable states are:\")\n",
    "for sample in sol_res:\n",
    "    if sample.probability > 0.05:\n",
    "        print(sample.state, sample.probability)\n",
    "# We can also directly cast states into bitstrings for practical use:\n",
    "print(\"And as bitstrings:\")\n",
    "for sample in sol_res:\n",
    "    if sample.probability > 0.05:\n",
    "        print(sample.state.bitstring,  sample.probability)\n",
    "        indices_bin_1 = np.where(np.array(list(sample.state.bitstring), dtype=int) == 1)[0]\n",
    "        indices_bin_0 = np.where(np.array(list(sample.state.bitstring), dtype=int) == 0)[0]\n",
    "        print(\"0 list : \"+ str(indices_bin_0))\n",
    "        print(\"1 list : \" + str(indices_bin_1) + \"\\n\")\n",
    "        \n",
    "        plt.figure(figsize=(8, 8))\n",
    "        node_size = 440\n",
    "        font_size = 14\n",
    "        nx.draw_networkx(G, \n",
    "                         pos=nodes_positions, \n",
    "                         nodelist=indices_bin_1.tolist(), \n",
    "                         node_color='#FFE033', \n",
    "                         node_size=node_size, \n",
    "                         font_size=font_size)\n",
    "\n",
    "        nx.draw_networkx(G, \n",
    "                         pos=nodes_positions, \n",
    "                         nodelist=indices_bin_0.tolist(), \n",
    "                         node_color='#7B9BF2', \n",
    "                         node_size=node_size, \n",
    "                         font_size=font_size)\n",
    "\n",
    "        nx.draw_networkx_edges(G, pos=nodes_positions)\n",
    "        plt.show()\n"
   ]
  },
  {
   "cell_type": "markdown",
   "metadata": {},
   "source": [
    "## PBO\n",
    "Now what we want to take into consideration is the real implementation of the SWAP gates:\n",
    "<img src=\"swap.png\" />\n",
    "For example the following equivalent circuit:\n",
    "<img src=\"equi.png\"/>\n",
    "To do so we will use the previous nnized ansatz:"
   ]
  },
  {
   "cell_type": "code",
   "execution_count": null,
   "metadata": {},
   "outputs": [],
   "source": [
    "%qatdisplay nnized_ansatz_circuit"
   ]
  },
  {
   "cell_type": "markdown",
   "metadata": {},
   "source": [
    "We are going to need a class named GraphCircuit in qat.pbo to create a graph from our circuit:"
   ]
  },
  {
   "cell_type": "code",
   "execution_count": null,
   "metadata": {},
   "outputs": [],
   "source": [
    "from qat.pbo import XXX\n",
    "\n",
    "# Generate a graph\n",
    "graph = XXX()\n",
    "\n",
    "# Transform the circuit into a graph\n",
    "graph.load_circuit(XXX)"
   ]
  },
  {
   "cell_type": "markdown",
   "metadata": {},
   "source": [
    "Once that is done we can create a pattern to replace:\n",
    "+ old_pattern will be the SWAP operation\n",
    "+ new_pattern will be the equivalent pattern of CNOTs"
   ]
  },
  {
   "cell_type": "code",
   "execution_count": null,
   "metadata": {},
   "outputs": [],
   "source": [
    "# Pattern\n",
    "old_pattern = [('XXX', [XXX, 1])]\n",
    "new_pattern = [('XXX', [XXX, XXX]), ('XXX', [XXX, XXX]), ('XXX', [XXX, XXX])]\n"
   ]
  },
  {
   "cell_type": "markdown",
   "metadata": {},
   "source": [
    "Calling replace_pattern on our graph with the old and the new pattern as argument will replace the first pattern in the graph."
   ]
  },
  {
   "cell_type": "code",
   "execution_count": null,
   "metadata": {},
   "outputs": [],
   "source": [
    "# Replace pattern\n",
    "graph.XXX(XXX, XXX)"
   ]
  },
  {
   "cell_type": "markdown",
   "metadata": {},
   "source": [
    "To replace all the patterns in the graph it is enough to use a while loop with the previous call:"
   ]
  },
  {
   "cell_type": "code",
   "execution_count": null,
   "metadata": {},
   "outputs": [],
   "source": [
    "# Replace all pattern\n",
    "XXX graph.replace_pattern(old_pattern, new_pattern):\n",
    "    continue"
   ]
  },
  {
   "cell_type": "markdown",
   "metadata": {},
   "source": [
    "In the end you can display the circuit with CNOTs instead of SWAP gates:"
   ]
  },
  {
   "cell_type": "code",
   "execution_count": null,
   "metadata": {},
   "outputs": [],
   "source": [
    "circ_no_swap = graph.to_circ()\n",
    "%qatdisplay circ_no_swap"
   ]
  },
  {
   "cell_type": "code",
   "execution_count": null,
   "metadata": {},
   "outputs": [],
   "source": []
  }
 ],
 "metadata": {
  "kernelspec": {
   "display_name": "Python 3 (ipykernel)",
   "language": "python",
   "name": "python3"
  },
  "language_info": {
   "codemirror_mode": {
    "name": "ipython",
    "version": 3
   },
   "file_extension": ".py",
   "mimetype": "text/x-python",
   "name": "python",
   "nbconvert_exporter": "python",
   "pygments_lexer": "ipython3",
   "version": "3.9.7"
  }
 },
 "nbformat": 4,
 "nbformat_minor": 2
}
