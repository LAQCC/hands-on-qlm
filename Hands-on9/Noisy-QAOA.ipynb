{
 "cells": [
  {
   "cell_type": "markdown",
   "metadata": {},
   "source": [
    "# Hands-on 9: Noisy QAOA\n",
    "\n",
    "In this notebook, you will \n",
    "\n",
    "    - implement a noisy version of the QAOA algorithm and will compare it to the noiseless case.\n",
    "\n",
    "    - learn how to specify imperfections of your hardware model"
   ]
  },
  {
   "cell_type": "code",
   "execution_count": null,
   "metadata": {},
   "outputs": [],
   "source": [
    "from qat.lang.AQASM import Program, H, PH, SWAP, CNOT\n",
    "prog = Program()\n",
    "reg = prog.qalloc(3)\n",
    "prog.apply(H, reg[2])\n",
    "prog.apply(H.ctrl(), reg[0:2])\n",
    "prog.apply(PH(0.4).ctrl(), reg[0:2])\n",
    "prog.apply(CNOT, reg[0:2])\n",
    "prog.apply(SWAP, reg[1:3])\n",
    "prog.apply(CNOT, reg[1:3])\n",
    "circ = prog.to_circ()\n",
    "\n",
    "%qatdisplay circ"
   ]
  },
  {
   "cell_type": "code",
   "execution_count": null,
   "metadata": {},
   "outputs": [],
   "source": [
    "from qat.linalg import LinAlg\n",
    "\n",
    "qpu = LinAlg()\n",
    "result = qpu.submit(circ.to_job())\n",
    "for sample in result:\n",
    "    print(\"State %s, probability %s, err %s\"%(sample.state, sample.probability, sample.err))\n"
   ]
  },
  {
   "cell_type": "markdown",
   "metadata": {},
   "source": [
    "A noisy quantum processor is characterized by \n",
    "\n",
    "- a **hardware model**: this object describes the quantum gates (their duration, the *quantum channel* that defines them, ...) and the environment (also described by quantum channels)\n",
    "- a **simulation method**: the user can choose between a deterministic and a stochastic method to compute the final result.\n",
    "    - The deterministic method is based on a density-matrix representation of the system and is hence limited to small numbers of qubits. \n",
    "    - The stochastic method is based a statevector representation, and can thus be used for larger numbers of qubits. It may necessitate a large number of samples to converge to a reliable result "
   ]
  },
  {
   "cell_type": "code",
   "execution_count": null,
   "metadata": {},
   "outputs": [],
   "source": [
    "from qat.hardware import DefaultHardwareModel\n",
    "from qat.qpus import NoisyQProc\n",
    "from qat.quops import ParametricAmplitudeDamping, ParametricPureDephasing\n",
    "\n",
    "# Here, we instantiate the DefaultHardware with gate times and a description of environmental noise\n",
    "#We choose to model environmental noise with two simple kinds of noise: **amplitude damping** and **pure dephasing noise** \n",
    "#with their respective characteristic decay times, $T_1$ and $T_\\varphi$ (in the Lindblad approximation). \n",
    "\n",
    "hardware_model = DefaultHardwareModel(\n",
    "                    gate_times = {\"H\": 2, \"PH\": lambda angle : 5*angle, \"CNOT\": 30, \"SWAP\": 40,\n",
    "                                  \"C-H\": 40, \"C-PH\": lambda angle : 40},\n",
    "                    idle_noise = [ParametricAmplitudeDamping(T_1=1000), ParametricPureDephasing(T_phi=100)]\n",
    "                )\n",
    "\n",
    "\n",
    "import qat.noisy, qat.linalg\n",
    "# We define a first noisy quantum processor with this hardware model, \n",
    "# and a deterministic method to simulate the computation of the circuit\n",
    "noisy_qpu = NoisyQProc(hardware_model = hardware_model, sim_method = \"deterministic\")\n",
    "\n",
    "result = noisy_qpu.submit(circ.to_job())\n",
    "for sample in result:\n",
    "    print(\"State %s, probability %s, err %s\"%(sample.state, sample.probability, sample.err))"
   ]
  },
  {
   "cell_type": "code",
   "execution_count": null,
   "metadata": {},
   "outputs": [],
   "source": [
    "noisy_qpu = NoisyQProc(hardware_model = hardware_model, sim_method = \"stochastic\",\n",
    "                       backend_simulator=qat.linalg.LinAlg(),n_samples=100)\n",
    "\n",
    "result = noisy_qpu.submit(circ.to_job())\n",
    "for sample in result.raw_data:\n",
    "    print(\"State %s, probability %s, err %s\"%(sample.state, sample.probability, sample.err))"
   ]
  },
  {
   "cell_type": "markdown",
   "metadata": {},
   "source": [
    "### Exercise 1:\n",
    "\n",
    "Play with T_1 and T_phi times, which quantify the quality/lifetime of qubits, and see how the result differs from the noiseless case"
   ]
  },
  {
   "cell_type": "code",
   "execution_count": null,
   "metadata": {},
   "outputs": [],
   "source": [
    "hardware_model = DefaultHardwareModel(\n",
    "                    gate_times = {\"H\": XXX, \"PH\": lambda angle : XXX*angle, \"CNOT\": XXX, \"SWAP\": XXX,\n",
    "                                  \"C-H\": XXX, \"C-PH\": lambda angle : XXX},\n",
    "                    idle_noise = [ParametricAmplitudeDamping(T_1=XXX), ParametricPureDephasing(T_phi=XXX)]\n",
    "                )\n",
    "\n",
    "\n",
    "noisy_qpu = NoisyQProc(hardware_model = hardware_model, sim_method = \"deterministic\")\n",
    "result = noisy_qpu.submit(circ.to_job())\n",
    "for sample in result.raw_data:\n",
    "    print(\"State %s, probability %s, err %s\"%(sample.state, sample.probability, sample.err))"
   ]
  },
  {
   "cell_type": "markdown",
   "metadata": {},
   "source": [
    " We will now focus on the effect of noise on variational algorithms. For which values of T1 and T_phi the outputs correspond to the noiseless case?\n"
   ]
  },
  {
   "cell_type": "code",
   "execution_count": null,
   "metadata": {},
   "outputs": [],
   "source": [
    "import networkx as nx\n",
    "import numpy as np\n",
    "from qat.vsolve.qaoa import MaxCut\n",
    "\n",
    "# we get the simplest QAOA Ansatz from previous exercise\n",
    "\n",
    "n_qubits = 10\n",
    "problem_graph = nx.generators.random_graphs.erdos_renyi_graph(n_qubits, 0.5, seed=10)\n",
    "problem = MaxCut(problem_graph)\n",
    "\n",
    "# we bind the variables to arbitrary values so that we can compare the effects of noise\n",
    "ansatz = problem.qaoa_ansatz(1).circuit\n",
    "binded_ansatz = ansatz.bind_variables({\"\\\\gamma_{0}\": np.pi/3,\"\\\\beta_{0}\": 5*np.pi/2 })\n",
    "\n",
    "print(\"Number of gates: \", len(ansatz.ops))\n",
    "%qatdisplay binded_ansatz"
   ]
  },
  {
   "cell_type": "markdown",
   "metadata": {},
   "source": [
    "Once the parametrized circuit binded use it to obtain the wavefunction:"
   ]
  },
  {
   "cell_type": "code",
   "execution_count": null,
   "metadata": {},
   "outputs": [],
   "source": [
    "#Noiseless case\n",
    "import matplotlib.pyplot as plt\n",
    "from qat.core.simutil import wavefunction\n",
    "\n",
    "\n",
    "wf = wavefunction(XXX, qpu, probs=True)\n",
    "plt.xlabel(\"State Label\")\n",
    "plt.ylabel(\"Probability\")\n",
    "plt.plot(wf);"
   ]
  },
  {
   "cell_type": "markdown",
   "metadata": {},
   "source": [
    "You can modify the T_1 and T_phi in the following cell to next see the impact of those. You could for example start with a low 1e0 time and increase it to get where the noise does not seem to have an impact anymore."
   ]
  },
  {
   "cell_type": "code",
   "execution_count": null,
   "metadata": {},
   "outputs": [],
   "source": [
    "hardware_model_NISQ = DefaultHardwareModel(\n",
    "                    gate_times = {\"H\": 2, \"PH\": 5, \"RX\": 5, \"CNOT\": 30, \"SWAP\": 40\n",
    "                                  },\n",
    "                    idle_noise = [ParametricAmplitudeDamping(T_1=XXX), ParametricPureDephasing(T_phi=XXX)]\n",
    "                )"
   ]
  },
  {
   "cell_type": "markdown",
   "metadata": {},
   "source": [
    "The following cell allow you to plot the noisy wavefunction, lets use the deterministic simulation method."
   ]
  },
  {
   "cell_type": "code",
   "execution_count": null,
   "metadata": {},
   "outputs": [],
   "source": [
    "noisy_qpu_NISQ = NoisyQProc(hardware_model = hardware_model_NISQ, sim_method = \"XXX\")\n",
    "\n",
    "wf = wavefunction(binded_ansatz, noisy_qpu_NISQ, probs=True)\n",
    "plt.xlabel(\"State Label\")\n",
    "plt.ylabel(\"Probability\")\n",
    "plt.plot(wf);\n",
    "    "
   ]
  },
  {
   "cell_type": "markdown",
   "metadata": {},
   "source": [
    "And if you wish you can have access to the states:"
   ]
  },
  {
   "cell_type": "code",
   "execution_count": null,
   "metadata": {},
   "outputs": [],
   "source": [
    "result = noisy_qpu_NISQ.submit(binded_ansatz.to_job())\n",
    "for sample in result:\n",
    "    print(\"State %s, probability %s, err %s\"%(sample.state, sample.probability, sample.err))"
   ]
  },
  {
   "cell_type": "markdown",
   "metadata": {},
   "source": [
    "### Exercise 2: Add gate noise\n",
    "\n",
    "Besides adding idle noise, one can model imperfect gates. One way of doing so is to append to each noiseless gate a noisy channel that best models the imperfections of that gate (how to measure these imperfections is outside of the scope of this workshop)\n",
    "$$X = \\begin{pmatrix} 0 & 1 \\\\ 1 & 0 \\end{pmatrix} ; Y = \\begin{pmatrix} 0 & -i \\\\ i & 0 \\end{pmatrix} ; Z = \\begin{pmatrix} 1 & 0 \\\\ 0 & -1 \\end{pmatrix}$$\n",
    "\n",
    "\n",
    "Note : use 1j for i.\n",
    "\n",
    "Modify the probability (from 0 to 1) to the impact.\n"
   ]
  },
  {
   "cell_type": "code",
   "execution_count": null,
   "metadata": {},
   "outputs": [],
   "source": [
    "from qat.hardware.default import DefaultGatesSpecification, HardwareModel\n",
    "from qat.quops import QuantumChannelKraus\n",
    "\n",
    "\n",
    "prob = XXX\n",
    "Xmat = np.array([[XXX, XXX], [XXX, XXX]])\n",
    "Ymat = np.array([[XXX, XXX], [XXX, XXX]])\n",
    "Zmat = np.array([[XXX, XXX], [XXX, XXX]])\n",
    "\n",
    "# See Depolarizing channel definition from ie Nielsen&Chuang or Wikipedia\n",
    "kraus_ops = [np.sqrt(1-prob)*np.identity(2),\n",
    "             np.sqrt(prob/3)*Xmat, np.sqrt(prob/3)*Ymat, np.sqrt(prob/3)*Zmat]\n",
    "noise = QuantumChannelKraus(kraus_ops)\n",
    "\n",
    "print(\"These are the Pauli matrices:\")\n",
    "print(Xmat)\n",
    "print(Ymat)\n",
    "print(Zmat)"
   ]
  },
  {
   "cell_type": "code",
   "execution_count": null,
   "metadata": {},
   "outputs": [],
   "source": [
    "from qat.hardware.default import DefaultGatesSpecification, HardwareModel\n",
    "\n",
    "gtimes = {\"H\": 2, \"PH\": 5, \"RX\": 5, \"CNOT\": 30 }\n",
    "gnoise = {\"H\": lambda: noise,\"PH\": lambda _: noise,\"RX\": lambda _: noise}\n",
    "inoise = [ParametricAmplitudeDamping(T_1=XXX), ParametricPureDephasing(T_phi=XXX)]\n",
    "\n",
    "hardware_model_NISQ2 = DefaultHardwareModel(gate_times=gtimes, gate_noise=gnoise, idle_noise=inoise)"
   ]
  },
  {
   "cell_type": "markdown",
   "metadata": {},
   "source": [
    "Use the defined noisy qpu  to compute the wave function."
   ]
  },
  {
   "cell_type": "code",
   "execution_count": null,
   "metadata": {},
   "outputs": [],
   "source": [
    "noisy_qpu_NISQ2 = NoisyQProc(hardware_model = hardware_model_NISQ2, sim_method = \"deterministic\")\n",
    "\n",
    "ansatz = problem.qaoa_ansatz(1).circuit\n",
    "binded_ansatz = ansatz.bind_variables({\"\\\\gamma_{0}\": np.pi/3,\"\\\\beta_{0}\": 5*np.pi/2 })\n",
    "\n",
    "wf = wavefunction(binded_ansatz, XXX, probs=True)\n",
    "plt.xlabel(\"State Label\")\n",
    "plt.ylabel(\"Probability\")\n",
    "plt.plot(wf);"
   ]
  },
  {
   "cell_type": "markdown",
   "metadata": {},
   "source": [
    "Now your goal is:\n",
    "\n",
    " - to introduce dephasing noise after the H and CNOT gates, and bitflip noise after the RX gates.\n",
    " - to see how the wavefunction changes as we vary the noise strengths and gate duration"
   ]
  },
  {
   "cell_type": "code",
   "execution_count": null,
   "metadata": {},
   "outputs": [],
   "source": [
    "prob_bitflip = XXX\n",
    "kraus_ops_bitflip = [np.sqrt(1-prob_bitflip)*np.identity(2),np.sqrt(prob_bitflip)*Xmat]\n",
    "noise_bitflip = QuantumChannelKraus(kraus_ops_bitflip)\n",
    "\n",
    "prob_phaseflip = XXX\n",
    "kraus_ops_phaseflip = [np.sqrt(1-prob_phaseflip)*np.identity(2),np.sqrt(prob_phaseflip)*Zmat]\n",
    "noise_phaseflip = QuantumChannelKraus(kraus_ops_phaseflip)"
   ]
  },
  {
   "cell_type": "code",
   "execution_count": null,
   "metadata": {},
   "outputs": [],
   "source": [
    "gtimes = {\"H\": 2, \"PH\": 5, \"RX\": 5, \"CNOT\": 30 }\n",
    "gnoise = {\"H\": lambda: XXX,\"PH\": lambda _: XXX,\"RX\": lambda _: XXX}\n",
    "inoise = [ParametricAmplitudeDamping(T_1=XXX), ParametricPureDephasing(T_phi=XXX)]\n",
    "\n",
    "hardware_model_NISQ3 = DefaultHardwareModel(gate_times=gtimes, gate_noise=gnoise, idle_noise=inoise)"
   ]
  },
  {
   "cell_type": "code",
   "execution_count": null,
   "metadata": {
    "scrolled": true
   },
   "outputs": [],
   "source": [
    "noisy_qpu_NISQ3 = NoisyQProc(hardware_model = XXX, sim_method = \"deterministic\")\n",
    "\n",
    "ansatz = problem.qaoa_ansatz(1).circuit\n",
    "binded_ansatz = ansatz.bind_variables({\"\\\\gamma_{0}\": np.pi/3,\"\\\\beta_{0}\": 5*np.pi/2 })\n",
    "\n",
    "wf = wavefunction(binded_ansatz, XXX, probs=True)\n",
    "plt.xlabel(\"State Label\")\n",
    "plt.ylabel(\"Probability\")\n",
    "plt.plot(wf);"
   ]
  },
  {
   "cell_type": "markdown",
   "metadata": {},
   "source": [
    "Vary the different parameters to see the impact of those."
   ]
  },
  {
   "cell_type": "markdown",
   "metadata": {},
   "source": [
    "### Exercise 3: Include the outer optimisation loop and compare with the classical case\n",
    "\n",
    "We will use a COBYLA optimiser and 2 layers for the ansatz. "
   ]
  },
  {
   "cell_type": "code",
   "execution_count": null,
   "metadata": {},
   "outputs": [],
   "source": [
    "from qat.plugins import  ScipyMinimizePlugin\n",
    "cobyla = ScipyMinimizePlugin(method=\"COBYLA\", \n",
    "                             tol=1e-2, \n",
    "                             options={\"maxiter\": 50})\n",
    "stack = cobyla | LinAlg()\n",
    "\n",
    "result = stack.submit(problem.to_job(2))\n",
    "print(\"Final energy:\", result.value)\n",
    "print(\"The optimization data:\")\n",
    "plt.plot(eval(result.meta_data['optimization_trace']))\n",
    "plt.xlabel(\"steps\")\n",
    "plt.ylabel(\"energy\")\n",
    "plt.show()"
   ]
  },
  {
   "cell_type": "markdown",
   "metadata": {},
   "source": [
    "Now the goal is to see how changing the noise and circuit depth will reduce the quality of the variational algorithm"
   ]
  },
  {
   "cell_type": "code",
   "execution_count": null,
   "metadata": {},
   "outputs": [],
   "source": [
    "from qat.plugins import ObservableSplitter\n",
    "\n",
    "hardware_model_NISQ4 = DefaultHardwareModel(\n",
    "                    gate_times = XXX,\n",
    "                    idle_noise = XXX\n",
    "                )\n",
    "\n",
    "\n",
    "job = problem.qaoa_ansatz(XXX)\n",
    "\n",
    "noisy_qpu_NISQ = NoisyQProc(hardware_model = XXX, sim_method = \"deterministic-vectorized\")\n",
    "#noisy_qpu_NISQ = NoisyQProc(hardware_model = XXX, sim_method = \"stochastic\", \n",
    "#                             backend_simulator=qat.linalg.LinAlg(),n_samples=100)\n",
    "\n",
    "\n",
    "stack = cobyla | XXX\n",
    "\n",
    "result = stack.submit(job)\n",
    "print(\"Final energy:\", result.value)\n",
    "print(\"The optimization data:\")\n",
    "plt.plot(eval(result.meta_data['optimization_trace']))\n",
    "plt.xlabel(\"steps\")\n",
    "plt.ylabel(\"energy\")\n",
    "plt.show()"
   ]
  },
  {
   "cell_type": "code",
   "execution_count": null,
   "metadata": {},
   "outputs": [],
   "source": []
  }
 ],
 "metadata": {
  "kernelspec": {
   "display_name": "Python 3 (ipykernel)",
   "language": "python",
   "name": "python3"
  },
  "language_info": {
   "codemirror_mode": {
    "name": "ipython",
    "version": 3
   },
   "file_extension": ".py",
   "mimetype": "text/x-python",
   "name": "python",
   "nbconvert_exporter": "python",
   "pygments_lexer": "ipython3",
   "version": "3.9.7"
  }
 },
 "nbformat": 4,
 "nbformat_minor": 2
}
