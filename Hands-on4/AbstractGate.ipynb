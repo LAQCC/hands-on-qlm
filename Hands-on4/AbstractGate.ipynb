{
 "cells": [
  {
   "cell_type": "markdown",
   "metadata": {},
   "source": [
    "# Hands-on 4: Abstract Gate\n",
    "\n",
    "In this notebook, you will learn to create and use abstract gates.\n",
    "\n",
    "Abstract Gates are usefull to:\n",
    "- ease de developpement of a circuit by black boxing some part of the algorithm\n",
    "- black boxing a routine call which is known to be available on a specific hardware\n",
    "\n",
    "We will provide a matrix generator in order to be able to populate the matrices in the circuit model, thus allowing us to later simulate these circuits."
   ]
  },
  {
   "cell_type": "markdown",
   "metadata": {},
   "source": [
    "## Constant abstract gates"
   ]
  },
  {
   "cell_type": "markdown",
   "metadata": {},
   "source": [
    "We will first create a CNOT with an abstract gate.\n",
    "\n",
    "The first step is to import AbstractGate from qat.lang.AQASM:"
   ]
  },
  {
   "cell_type": "code",
   "execution_count": null,
   "metadata": {},
   "outputs": [],
   "source": [
    "from XXX.XXX.XXX import XXX"
   ]
  },
  {
   "cell_type": "markdown",
   "metadata": {},
   "source": [
    "We then need to create our gate by saving the result of the function AbstractGate():\n",
    "- Choose a name for your CNOT gate\n",
    "\n",
    "Next complete the parameters of the AbstractGate function:\n",
    "- Choose the name that will be displayed when printing your circuit\n",
    "- The CNOT gate doesn't need any parameters so keep [] empty\n",
    "- Fix the arity of the CNOT\n"
   ]
  },
  {
   "cell_type": "code",
   "execution_count": null,
   "metadata": {},
   "outputs": [],
   "source": [
    "# CNOT takes no parameter and is of arity 2\n",
    "XXX = AbstractGate(\"XXX\", [], arity=XXX)"
   ]
  },
  {
   "cell_type": "markdown",
   "metadata": {},
   "source": [
    "Once you have defined your abstract gate you can apply it. \n",
    "The main difference is: your abstract gate is a function so you need to call it with empty parenthesis (like a function).\n",
    "\n",
    "For example we will use the example of the EPR pair. The single thing you need to complete is the name of your abstract gate:"
   ]
  },
  {
   "cell_type": "code",
   "execution_count": null,
   "metadata": {},
   "outputs": [],
   "source": [
    "from qat.lang.AQASM import Program,H\n",
    "prog = Program()\n",
    "qbits = prog.qalloc(2)\n",
    "prog.apply(H, qbits[0])\n",
    "prog.apply(XXX(), qbits)\n",
    "circuit = prog.to_circ()\n",
    "%qatdisplay circuit"
   ]
  },
  {
   "cell_type": "markdown",
   "metadata": {},
   "source": [
    "It is not possible to simulate this circuit since the matrix is not known.\n",
    "\n",
    "Execute the following cell to see the error when you try to simulate such circuit:"
   ]
  },
  {
   "cell_type": "code",
   "execution_count": null,
   "metadata": {},
   "outputs": [],
   "source": [
    "from qat.qpus import LinAlg\n",
    "linalgqpu = LinAlg()\n",
    "\n",
    "job = circuit.to_job()\n",
    "\n",
    "try:\n",
    "    for sample in linalgqpu.submit(job):\n",
    "        print(\"State %s amplitude %s\" % (sample.state, sample.amplitude))\n",
    "        \n",
    "except Exception as e:\n",
    "    print(type(e), e)"
   ]
  },
  {
   "cell_type": "markdown",
   "metadata": {},
   "source": [
    "If we want to simulate we need to specify the matrix of our gate.\n",
    "\n",
    "The usual way to define the CNOT's matrix is :\n",
    "$$\\begin{bmatrix} 1 & 0 & 0 & 0\\\\ 0 & 1 & 0 & 0 \\\\ 0 & 0 & 0 & 1 \\\\ 0 & 0 & 1 & 0 \\end{bmatrix}$$\n",
    "\n",
    "Complete the following cell with the matrix' definition:"
   ]
  },
  {
   "cell_type": "code",
   "execution_count": null,
   "metadata": {},
   "outputs": [],
   "source": [
    "import numpy as np\n",
    "\n",
    "def CNOT_generator():\n",
    "    return np.array([[XXX, XXX, XXX, XXX],\n",
    "                     [XXX, XXX, XXX, XXX],\n",
    "                     [XXX, XXX, XXX, XXX],\n",
    "                     [XXX, XXX, XXX, XXX]])\n",
    "\n",
    "XXX.set_matrix_generator(CNOT_generator)"
   ]
  },
  {
   "cell_type": "markdown",
   "metadata": {},
   "source": [
    "Let's create the program as previously:"
   ]
  },
  {
   "cell_type": "code",
   "execution_count": null,
   "metadata": {},
   "outputs": [],
   "source": [
    "from qat.lang.AQASM import Program,H\n",
    "prog = Program()\n",
    "qbits = prog.qalloc(2)\n",
    "prog.apply(H, qbits[0])\n",
    "prog.apply(XXX(), qbits)\n",
    "circuit = prog.to_circ()"
   ]
  },
  {
   "cell_type": "markdown",
   "metadata": {},
   "source": [
    "Since we have now our circuit with our gate properly definied we can simulate it:"
   ]
  },
  {
   "cell_type": "code",
   "execution_count": null,
   "metadata": {},
   "outputs": [],
   "source": [
    "from qat.qpus import LinAlg\n",
    "linalgqpu = LinAlg()\n",
    "\n",
    "job = circuit.to_job()\n",
    "try:\n",
    "    for sample in linalgqpu.submit(job):\n",
    "        print(\"State %s amplitude %s\" % (sample.state, sample.amplitude))\n",
    "        \n",
    "except Exception as e:\n",
    "    print(type(e), e)"
   ]
  },
  {
   "cell_type": "markdown",
   "metadata": {},
   "source": [
    "You should obtain :\n",
    "- State |00> amplitude (0.7071067811865475+0j)\n",
    "- State |11> amplitude (0.7071067811865475+0j)"
   ]
  },
  {
   "cell_type": "markdown",
   "metadata": {},
   "source": [
    "## Parametrized abstract gates"
   ]
  },
  {
   "cell_type": "markdown",
   "metadata": {},
   "source": [
    "Let's now have a look at how to create a parametrized abstract gate.\n",
    "\n",
    "We will define some kind of parametrized CNOT for example:\n",
    "\n",
    "$$\\begin{bmatrix} 1 & 0 & 0 & 0\\\\ 0 & 1 & 0 & 0 \\\\ 0 & 0 & 0 & e^{-\\frac{\\theta i }{2}} \\\\ 0 & 0 & e^{\\frac{\\theta i }{2}} & 0 \\end{bmatrix}$$\n",
    "\n",
    "Define this matrix in the following cell.\n",
    "\n",
    "Notes : \n",
    "- use 1j for i.\n",
    "- use np.exp for the exponential\n",
    "- define the name of your variable for $\\theta$"
   ]
  },
  {
   "cell_type": "code",
   "execution_count": null,
   "metadata": {},
   "outputs": [],
   "source": [
    "import numpy as np\n",
    "# Let us define a function that given a value for theta returns a matrix corresponding to CX(theta)\n",
    "# Our CX(theta) will simply be some kind of parametrized CNOT\n",
    "def CX_generator(theta):\n",
    "    return np.array([[1, 0, 0, 0],\n",
    "                     [0, 1, 0, 0],\n",
    "                     [0, 0, 0, XXX],\n",
    "                     [0, 0, XXX, 0]])"
   ]
  },
  {
   "cell_type": "markdown",
   "metadata": {},
   "source": [
    "We can know define our gate:\n",
    "- Find a name for your gate\n",
    "- Define the name when diplaying the circuit\n",
    "- Define the type of the parameter of our gate\n",
    "- Define the arity of our gate\n",
    "- Attribute our generator"
   ]
  },
  {
   "cell_type": "code",
   "execution_count": null,
   "metadata": {},
   "outputs": [],
   "source": [
    "# Equivalently, we could have defined the gate directly as follows:\n",
    "XXX = AbstractGate(\"XXX\", [XXX], arity=XXX, matrix_generator=XXX)"
   ]
  },
  {
   "cell_type": "markdown",
   "metadata": {},
   "source": [
    "Let's create a simple circuit with an Hadamard and our CX gate with an angle of 0.33:"
   ]
  },
  {
   "cell_type": "code",
   "execution_count": null,
   "metadata": {},
   "outputs": [],
   "source": [
    "prog = Program()\n",
    "\n",
    "qbits = prog.qalloc(2)\n",
    "\n",
    "prog.apply(H, qbits[0])\n",
    "prog.apply(XXX(XXX), qbits)\n",
    "\n",
    "circuit = prog.to_circ()\n",
    "%qatdisplay circuit"
   ]
  },
  {
   "cell_type": "markdown",
   "metadata": {},
   "source": [
    "We can directly simlulate our circuit since we have defined entirely our gate:"
   ]
  },
  {
   "cell_type": "code",
   "execution_count": null,
   "metadata": {},
   "outputs": [],
   "source": [
    "from qat.qpus import LinAlg\n",
    "linalgqpu = LinAlg()\n",
    "\n",
    "job = circuit.to_job()\n",
    "\n",
    "try:\n",
    "    for sample in linalgqpu.submit(job):\n",
    "        print(\"State %s amplitude %s\" % (sample.state, sample.amplitude))\n",
    "        \n",
    "except Exception as e:\n",
    "    print(type(e), e)"
   ]
  },
  {
   "cell_type": "markdown",
   "metadata": {
    "collapsed": true
   },
   "source": [
    "The circuit with an angle of 0.33 should give you:\n",
    "- State |11> amplitude (0.6975031081522839+0.1161439370690664j)\n",
    "- State |00> amplitude (0.7071067811865475+0j)"
   ]
  },
  {
   "cell_type": "markdown",
   "metadata": {},
   "source": [
    "## Much more tricky "
   ]
  },
  {
   "cell_type": "markdown",
   "metadata": {},
   "source": [
    "In this last section you can see a more complex definition for abstract gates:\n",
    "- using two angles\n",
    "- combining matrices to define yours\n"
   ]
  },
  {
   "cell_type": "code",
   "execution_count": null,
   "metadata": {},
   "outputs": [],
   "source": [
    "from qat.lang.AQASM import AbstractGate,Program,H\n",
    "from qat.qpus import LinAlg\n",
    "import numpy as np\n",
    "\n",
    "PX = AbstractGate(\"PX\", [float, float], arity=1)\n",
    "\n",
    "def PX_generator(phi, theta):\n",
    "    _I = np.eye(2, dtype=np.complex128)\n",
    "    _X = np.array([[0,1],[1,0]], dtype=np.complex128)\n",
    "    _Y = np.array([[0,-1j],[1j,0]], dtype=np.complex128)\n",
    "    return np.cos(theta/2) * _I - 1j * np.sin(theta/2) *(np.cos(phi) * _X + np.sin(phi) * _Y)\n",
    "\n",
    "PX.set_matrix_generator(PX_generator)\n",
    "\n",
    "prog = Program()\n",
    "qbits = prog.qalloc(1)\n",
    "prog.apply(PX(1.33, 0.4), qbits[0])\n",
    "circuit = prog.to_circ()\n",
    "%qatdisplay circuit\n",
    "\n",
    "linalgqpu = LinAlg()\n",
    "job = circuit.to_job()\n",
    "for sample in linalgqpu.submit(job):\n",
    "    print(\"State %s amplitude %s\" % (sample.state, sample.amplitude))"
   ]
  },
  {
   "cell_type": "markdown",
   "metadata": {},
   "source": [
    "As you have seen, abstract gates can help you during development phase to put in place the big frame or black boxing specific available gates."
   ]
  },
  {
   "cell_type": "code",
   "execution_count": null,
   "metadata": {},
   "outputs": [],
   "source": []
  }
 ],
 "metadata": {
  "kernelspec": {
   "display_name": "Python 3 (ipykernel)",
   "language": "python",
   "name": "python3"
  },
  "language_info": {
   "codemirror_mode": {
    "name": "ipython",
    "version": 3
   },
   "file_extension": ".py",
   "mimetype": "text/x-python",
   "name": "python",
   "nbconvert_exporter": "python",
   "pygments_lexer": "ipython3",
   "version": "3.9.12"
  }
 },
 "nbformat": 4,
 "nbformat_minor": 2
}
