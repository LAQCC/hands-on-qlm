{
 "cells": [
  {
   "cell_type": "markdown",
   "metadata": {},
   "source": [
    "# Hands On 10: Simulators\n",
    "\n",
    "In this notebook, we will play with other ideal simulators than LinAlg.\n"
   ]
  },
  {
   "cell_type": "markdown",
   "metadata": {},
   "source": [
    "## Matrix Product State"
   ]
  },
  {
   "cell_type": "markdown",
   "metadata": {},
   "source": [
    "**qat.mps**: a simulator where the state vector is stored as a Matrix Product State. This data structure compresses information in slightly entangled cases. In these cases, both memory usage and execution time are greatly reduced. Some references on MPS simulation of quantum computing: [Vidal03](https://arxiv.org/abs/quant-ph/0301063) or [Banuls05](https://arxiv.org/abs/quant-ph/0503174) <br><br>\n",
    "    *Restrictions:* gates are limited to arity < 4 and need to act on neighboring qubits (*i-e* with consecutive qubit indices).\n",
    "    <br><br>\n",
    "\n",
    "As an example we are going to first create a 50-qubit QFT circuit. \n",
    "\n",
    "To do so we need to:\n",
    "- import everything from qat.lang.AQASM\n",
    "- import the QFT function from qat.lang.AQASM.qftarith"
   ]
  },
  {
   "cell_type": "code",
   "execution_count": 2,
   "metadata": {},
   "outputs": [],
   "source": [
    "from qat.lang.AQASM import *\n",
    "from qat.lang.AQASM.qftarith import QFT"
   ]
  },
  {
   "cell_type": "markdown",
   "metadata": {},
   "source": [
    "Now we can create a 50-qubit circuit with a QFT:\n",
    "- define the number of qubits\n",
    "- allocate your qubit\n",
    "- apply the QFT"
   ]
  },
  {
   "cell_type": "code",
   "execution_count": null,
   "metadata": {},
   "outputs": [],
   "source": [
    "nqbits = 50\n",
    "prog = Program()\n",
    "reg = prog.qalloc(nqbits)\n",
    "prog.apply(QFT(nqbits), reg)\n",
    "qft_c = prog.to_circ()\n",
    "%qatdisplay qft_c"
   ]
  },
  {
   "cell_type": "markdown",
   "metadata": {},
   "source": [
    "We can know create the job from our circut."
   ]
  },
  {
   "cell_type": "code",
   "execution_count": null,
   "metadata": {},
   "outputs": [],
   "source": [
    "job = qft_c.to_job(nbshots=5) # Note that we are leaving aggregate_data to default True"
   ]
  },
  {
   "cell_type": "markdown",
   "metadata": {},
   "source": [
    "We need to import MPS.\n",
    "\n",
    "Once MPS imported we can create our qpu without forgetting to put Innize to True since our circuit is not Innize and MPS needs such circuit."
   ]
  },
  {
   "cell_type": "code",
   "execution_count": null,
   "metadata": {},
   "outputs": [],
   "source": [
    "from qat.qpus import MPS\n",
    "qpu = MPS(lnnize=True) # making circuit MPS-compatible. "
   ]
  },
  {
   "cell_type": "markdown",
   "metadata": {},
   "source": [
    "We can now submit this job and print the results:"
   ]
  },
  {
   "cell_type": "code",
   "execution_count": null,
   "metadata": {},
   "outputs": [],
   "source": [
    "res = qpu.submit(job)\n",
    "for sample in res:\n",
    "    print(sample.state,sample.probability)"
   ]
  },
  {
   "cell_type": "markdown",
   "metadata": {},
   "source": [
    "Normaly, you have been able to create a circuit with more than 38 qubits using the MPS simulator."
   ]
  },
  {
   "cell_type": "markdown",
   "metadata": {},
   "source": [
    "## Stabilizer"
   ]
  },
  {
   "cell_type": "markdown",
   "metadata": {},
   "source": [
    "**qat.stabs**: a simulator based on the stabilizer formalism ([Gottesman97](https://arxiv.org/abs/quant-ph/9705052), [Aaronson04](https://arxiv.org/abs/quant-ph/0406196)). It is, by construction, restricted to circuits containing Clifford gates (H, CNOT, S and the gates they generate) only. However, on these circuits, it can push the simulation to thousands of qubits.<br><br>\n",
    "    *Restrictions:* only Clifford gates can be used (CNOT, H, S and everything they generate)<br><br>"
   ]
  },
  {
   "cell_type": "markdown",
   "metadata": {},
   "source": [
    "If only Clifford gates are used, the stabs simulator, based on the stabilizer formalism, is the most reasonable choice. <br>\n",
    "\n",
    "Such circuits emerge when working with quantum error correction, for instance.<br>\n",
    "\n",
    "Then, if noise is modeled as random Pauli gates insertion, you could still use this simulator.<br>\n",
    "\n",
    "The following piece of code presents the simulation of a noisy encoding of a state into the Steane code.\n",
    "\n",
    "In this section about the simulator Stabs we will implement the encoder of the famous 7-qubit Steane code.\n",
    "\n",
    "The logical state to prepare is just $|0_{L}\\rangle$, and the starting state is $|0\\rangle^{\\otimes\\cdot n_{\\text{physical qubits}}}$. \n",
    "\n",
    "$$|0_{L}\\rangle = \\frac{1}{\\sqrt{8}} (|0000000>+|0011110>+|0101101>+|0110011>+\\\\|1001011>+|1010101>+|1100110>+|1111000>)$$\n",
    "\n"
   ]
  },
  {
   "cell_type": "markdown",
   "metadata": {},
   "source": [
    "  We will first implement a QRoutine of our encoder. The circuit you need to implement is the following:\n",
    "  ![7-qubit steane encoder](./encoder.PNG)\n",
    "  \n",
    "  The qubit 6 (starting at 0) is the input. At the end of this circuit we get a logical qubit on 7 qubits. \n",
    "  \n",
    "  Let first create the QRoutine :"
   ]
  },
  {
   "cell_type": "code",
   "execution_count": 3,
   "metadata": {},
   "outputs": [],
   "source": [
    "from qat.lang.AQASM import *\n",
    "def my_steane_encoder():\n",
    "    steane_encoder = QRoutine()\n",
    "    \n",
    "    steane_encoder.apply(H,0)\n",
    "    steane_encoder.apply(H,1)\n",
    "    steane_encoder.apply(H,2)\n",
    "    \n",
    "    steane_encoder.apply(CNOT,6,5)\n",
    "    steane_encoder.apply(CNOT,6,4)\n",
    "    steane_encoder.apply(CNOT,1,4)\n",
    "    steane_encoder.apply(CNOT,0,3)\n",
    "    steane_encoder.apply(CNOT,2,5)\n",
    "    steane_encoder.apply(CNOT,1,3)\n",
    "    steane_encoder.apply(CNOT,0,6)\n",
    "    steane_encoder.apply(CNOT,2,3)\n",
    "    steane_encoder.apply(CNOT,1,6)\n",
    "    steane_encoder.apply(CNOT,0,5)\n",
    "    steane_encoder.apply(CNOT,2,4)\n",
    "    return steane_encoder"
   ]
  },
  {
   "cell_type": "markdown",
   "metadata": {},
   "source": [
    "Once the QRoutine is created we need to create a program to apply it.\n",
    "\n",
    "Create a program for a single logical qubit with this Steane encoder:"
   ]
  },
  {
   "cell_type": "code",
   "execution_count": 4,
   "metadata": {},
   "outputs": [],
   "source": [
    "n_logical = 1\n",
    "\n",
    "prog = Program()\n",
    "\n",
    "reg = prog.qalloc(7*n_logical)"
   ]
  },
  {
   "cell_type": "markdown",
   "metadata": {},
   "source": [
    "### Now we can apply our Steane encoder to our register:"
   ]
  },
  {
   "cell_type": "code",
   "execution_count": 5,
   "metadata": {
    "scrolled": false
   },
   "outputs": [],
   "source": [
    "for qb in range(n_logical):\n",
    "    prog.apply(my_steane_encoder(),reg[qb*7:(qb+1)*7])     "
   ]
  },
  {
   "cell_type": "markdown",
   "metadata": {},
   "source": [
    "Let's display our circuit:"
   ]
  },
  {
   "cell_type": "code",
   "execution_count": 7,
   "metadata": {
    "scrolled": true
   },
   "outputs": [
    {
     "data": {
      "image/png": "[encoded data removed]",
      "text/plain": [
       "<IPython.core.display.Image object>"
      ]
     },
     "execution_count": 7,
     "metadata": {},
     "output_type": "execute_result"
    },
    {
     "name": "stdout",
     "output_type": "stream",
     "text": [
      "number of qbits:  7\n",
      "number of gates:  14\n"
     ]
    }
   ],
   "source": [
    "qec = prog.to_circ()\n",
    "\n",
    "%qatdisplay qec\n",
    "print(\"number of qbits: \", qec.nbqbits)\n",
    "print(\"number of gates: \", len(qec.ops))"
   ]
  },
  {
   "cell_type": "markdown",
   "metadata": {},
   "source": [
    "We can now import the simulatior Stabs from qat.stabs to execute our job and see if we managed to create the $|0_{L}\\rangle$:"
   ]
  },
  {
   "cell_type": "code",
   "execution_count": 8,
   "metadata": {},
   "outputs": [
    {
     "name": "stdout",
     "output_type": "stream",
     "text": [
      "|0000000> 0.12499999999999997\n",
      "|0011110> 0.12499999999999997\n",
      "|0101101> 0.12499999999999997\n",
      "|0110011> 0.12499999999999997\n",
      "|1001011> 0.12499999999999997\n",
      "|1010101> 0.12499999999999997\n",
      "|1100110> 0.12499999999999997\n",
      "|1111000> 0.12499999999999997\n"
     ]
    }
   ],
   "source": [
    "from qat.qpus import Stabs\n",
    "\n",
    "job = qec.to_job(nbshots=0)\n",
    "\n",
    "qpu = Stabs()\n",
    "\n",
    "res = qpu.submit(job)\n",
    "\n",
    "for sample in res:\n",
    "    print(sample.state,sample.probability)"
   ]
  },
  {
   "cell_type": "markdown",
   "metadata": {},
   "source": [
    "Modify the input to have $|1\\rangle$ as an input state (the 7th physical qubit of each logical qubit is the input) for the logical qubit to create $|1_{L}\\rangle$. with $$|1_{L}\\rangle = (|1111111>+|1100001>+|1010010>+|1001100>+\\\\|0110100>+|0101010>+|0011001>+|0000111>)$$\n"
   ]
  },
  {
   "cell_type": "markdown",
   "metadata": {},
   "source": [
    "What is the ouput of a logical qubit if the input is $\\frac{|0>+|1>}{\\sqrt{2}}$ ?\n"
   ]
  },
  {
   "cell_type": "markdown",
   "metadata": {},
   "source": [
    "## Feynman"
   ]
  },
  {
   "cell_type": "markdown",
   "metadata": {},
   "source": [
    "**qat.feynman**: a simulator based on the Feynman path integral formulation of quantum computing (see [Rudiak-Gould06](https://arxiv.org/abs/quant-ph/0607151) for instance). Its execution time is exponential in the number of *dense* gates. A gate is dense if it is neither logical (like CNOT or Toffoli - containing one 1 per line and column) nor diagonal. As qat.linalg, its memory usage is exponential in the number of qubits, as it still computes the entire amplitude vector.<br><br>\n",
    "    *Restrictions:* gates are limited to arity < 4.\n",
    "    <br><br>\n",
    "    \n",
    "To show an efficient example of Feynman we will use the add function:\n",
    "- import add from qat.lang.AQASM.classarith\n",
    "- call the add function"
   ]
  },
  {
   "cell_type": "code",
   "execution_count": null,
   "metadata": {},
   "outputs": [],
   "source": [
    "from qat.lang.AQASM import *\n",
    "from qat.lang.AQASM.classarith import add\n",
    "\n",
    "nqbits = 20\n",
    "prog = Program()\n",
    "reg = prog.qalloc(nqbits)\n",
    "for qb in reg[::2]:\n",
    "    prog.apply(X, qb)     \n",
    "prog.apply(add(10,10), reg)     \n",
    "        \n",
    "adder_c = prog.to_circ()\n",
    "%qatdisplay adder_c"
   ]
  },
  {
   "cell_type": "markdown",
   "metadata": {},
   "source": [
    "Let's execute it on MPS first:\n",
    "- import MPS from qat.qpus\n",
    "- Create the MPS qpu\n",
    "- Put Innize to True"
   ]
  },
  {
   "cell_type": "code",
   "execution_count": null,
   "metadata": {},
   "outputs": [],
   "source": [
    "from qat.qpus import MPS \n",
    "\n",
    "job = adder_c.to_job(nbshots=100)\n",
    "\n",
    "qpu = MPS(lnnize=True)\n",
    "\n",
    "res = qpu.submit(job)\n",
    "\n",
    "for sample in res:\n",
    "    print(sample.state,sample.probability)"
   ]
  },
  {
   "cell_type": "markdown",
   "metadata": {},
   "source": [
    "Let's now compare with Feynman:\n",
    "- import Feynman from qat.qpus\n",
    "- Create the Feynman qpu"
   ]
  },
  {
   "cell_type": "code",
   "execution_count": null,
   "metadata": {},
   "outputs": [],
   "source": [
    "from qat.qpus import Feynman \n",
    "\n",
    "qpu = Feynman()\n",
    "\n",
    "res = qpu.submit(job)\n",
    "\n",
    "for sample in res:\n",
    "    print(sample.state,sample.probability)"
   ]
  },
  {
   "cell_type": "markdown",
   "metadata": {},
   "source": [
    "Normaly, qat.feynman is the fastest method for this kind of circuit. This is because there is only \"one path in the integral\"."
   ]
  },
  {
   "cell_type": "code",
   "execution_count": null,
   "metadata": {},
   "outputs": [],
   "source": []
  }
 ],
 "metadata": {
  "kernelspec": {
   "display_name": "Python 3",
   "language": "python",
   "name": "python3"
  },
  "language_info": {
   "codemirror_mode": {
    "name": "ipython",
    "version": 3
   },
   "file_extension": ".py",
   "mimetype": "text/x-python",
   "name": "python",
   "nbconvert_exporter": "python",
   "pygments_lexer": "ipython3",
   "version": "3.6.8"
  }
 },
 "nbformat": 4,
 "nbformat_minor": 2
}
