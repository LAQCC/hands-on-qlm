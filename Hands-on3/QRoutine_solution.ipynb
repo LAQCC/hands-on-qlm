{
 "cells": [
  {
   "cell_type": "markdown",
   "metadata": {
    "qat-category": "1-Circuit generation in Python",
    "qat-summary": "1-Creation of an EPR pair using two qubits"
   },
   "source": [
    "# Hands-on 3: QRoutines\n",
    "\n",
    "\n"
   ]
  },
  {
   "cell_type": "markdown",
   "metadata": {},
   "source": [
    "In this jupyter notebook the goal is to learn how to create QRoutines. We will first build a circuit of a 5-qubit QFT gate by gate. After we will create a QRoutine for a generalized QFT. Finally you will learn how to use already implemented functions of the QLM, like the QFT."
   ]
  },
  {
   "cell_type": "markdown",
   "metadata": {
    "collapsed": true
   },
   "source": [
    "## Creation of a 5-qubit QFT"
   ]
  },
  {
   "cell_type": "markdown",
   "metadata": {},
   "source": [
    "Let us continue with a circuit that is just a little bit more complicated than the EPR pair.\n",
    "<img src=\"qft5.PNG\">\n",
    "First, we need to import relevant objects from the python AQASM module:"
   ]
  },
  {
   "cell_type": "code",
   "execution_count": 1,
   "metadata": {},
   "outputs": [],
   "source": [
    "#Import AQASM \n",
    "from qat.lang.AQASM import *"
   ]
  },
  {
   "cell_type": "markdown",
   "metadata": {},
   "source": [
    "And we need the math library for $\\pi$:"
   ]
  },
  {
   "cell_type": "code",
   "execution_count": 2,
   "metadata": {},
   "outputs": [],
   "source": [
    "#Import the math library for pi\n",
    "import math"
   ]
  },
  {
   "cell_type": "markdown",
   "metadata": {},
   "source": [
    "Then, we can declare a new object ``Program``. Let us give it an explicit name:"
   ]
  },
  {
   "cell_type": "code",
   "execution_count": 3,
   "metadata": {},
   "outputs": [],
   "source": [
    "#Create a program\n",
    "QFT_prog1 = Program()"
   ]
  },
  {
   "cell_type": "markdown",
   "metadata": {},
   "source": [
    "To create our QFT on 5 qubits, we need to allocate those qubits. Please allocate a register of 5 qubits in the following cell:"
   ]
  },
  {
   "cell_type": "code",
   "execution_count": 4,
   "metadata": {},
   "outputs": [],
   "source": [
    "#Allocate qubits\n",
    "qubits = QFT_prog1.qalloc(5)"
   ]
  },
  {
   "cell_type": "markdown",
   "metadata": {},
   "source": [
    "Now, we can access our qubits using the register \"qubits\".\n",
    "\n",
    "Registers behave like python list/arrays.\n",
    "\n",
    "Here our qubits will be refered to using qubits[0] to qubits[4].\n",
    "\n",
    "To create our QFT, we implement the appropriate gates.\n",
    "\n",
    "To do we need to:\n",
    "\n",
    "+ use Hadamard gates (H)\n",
    "+ use Phase shift gates (PH) with the good angle each time\n",
    "+ control the Phase shift gates with the good qubits\n",
    "\n",
    "You can control any gate with the function ctrl(). When applying a controlled gate, the qubit that controls the gate comes first."
   ]
  },
  {
   "cell_type": "code",
   "execution_count": 5,
   "metadata": {},
   "outputs": [],
   "source": [
    "#Apply gates\n",
    "#to use the constant pi, please use math.pi\n",
    "QFT_prog1.apply(H, qubits[0])\n",
    "QFT_prog1.apply(PH(math.pi/2).ctrl(), qubits[1], qubits[0])\n",
    "QFT_prog1.apply(PH(math.pi/4).ctrl(), qubits[2], qubits[0])\n",
    "QFT_prog1.apply(PH(math.pi/8).ctrl(), qubits[3], qubits[0])\n",
    "QFT_prog1.apply(PH(math.pi/16).ctrl(), qubits[4], qubits[0])\n",
    "QFT_prog1.apply(H, qubits[1])\n",
    "QFT_prog1.apply(PH(math.pi/2).ctrl(), qubits[2], qubits[1])\n",
    "QFT_prog1.apply(PH(math.pi/4).ctrl(), qubits[3], qubits[1])\n",
    "QFT_prog1.apply(PH(math.pi/8).ctrl(), qubits[4], qubits[1])\n",
    "QFT_prog1.apply(H, qubits[2])\n",
    "QFT_prog1.apply(PH(math.pi/2).ctrl(), qubits[3], qubits[2])\n",
    "QFT_prog1.apply(PH(math.pi/4).ctrl(), qubits[4], qubits[2])\n",
    "QFT_prog1.apply(H, qubits[3])\n",
    "QFT_prog1.apply(PH(math.pi/2).ctrl(), qubits[4], qubits[3])\n",
    "QFT_prog1.apply(H, qubits[4])"
   ]
  },
  {
   "cell_type": "markdown",
   "metadata": {},
   "source": [
    "The corresponding circuit object can be extracted directly from the Program object as follows:"
   ]
  },
  {
   "cell_type": "code",
   "execution_count": 6,
   "metadata": {},
   "outputs": [
    {
     "data": {
      "image/png": "[encoded data removed]",
      "text/plain": [
       "<IPython.core.display.Image object>"
      ]
     },
     "execution_count": 6,
     "metadata": {},
     "output_type": "execute_result"
    }
   ],
   "source": [
    "#Create the circuit\n",
    "circuit = QFT_prog1.to_circ()\n",
    "\n",
    "#Display the circuit\n",
    "%qatdisplay circuit"
   ]
  },
  {
   "cell_type": "markdown",
   "metadata": {},
   "source": [
    "Now that we have a proper circuit, we can simulate it."
   ]
  },
  {
   "cell_type": "code",
   "execution_count": 7,
   "metadata": {},
   "outputs": [
    {
     "name": "stdout",
     "output_type": "stream",
     "text": [
      "State |00000> with amplitude (0.1767766952966368+0j)\n",
      "State |00001> with amplitude (0.1767766952966368+0j)\n",
      "State |00010> with amplitude (0.1767766952966368+0j)\n",
      "State |00011> with amplitude (0.1767766952966368+0j)\n",
      "State |00100> with amplitude (0.1767766952966368+0j)\n",
      "State |00101> with amplitude (0.1767766952966368+0j)\n",
      "State |00110> with amplitude (0.1767766952966368+0j)\n",
      "State |00111> with amplitude (0.1767766952966368+0j)\n",
      "State |01000> with amplitude (0.1767766952966368+0j)\n",
      "State |01001> with amplitude (0.1767766952966368+0j)\n",
      "State |01010> with amplitude (0.1767766952966368+0j)\n",
      "State |01011> with amplitude (0.1767766952966368+0j)\n",
      "State |01100> with amplitude (0.1767766952966368+0j)\n",
      "State |01101> with amplitude (0.1767766952966368+0j)\n",
      "State |01110> with amplitude (0.1767766952966368+0j)\n",
      "State |01111> with amplitude (0.1767766952966368+0j)\n",
      "State |10000> with amplitude (0.1767766952966368+0j)\n",
      "State |10001> with amplitude (0.1767766952966368+0j)\n",
      "State |10010> with amplitude (0.1767766952966368+0j)\n",
      "State |10011> with amplitude (0.1767766952966368+0j)\n",
      "State |10100> with amplitude (0.1767766952966368+0j)\n",
      "State |10101> with amplitude (0.1767766952966368+0j)\n",
      "State |10110> with amplitude (0.1767766952966368+0j)\n",
      "State |10111> with amplitude (0.1767766952966368+0j)\n",
      "State |11000> with amplitude (0.1767766952966368+0j)\n",
      "State |11001> with amplitude (0.1767766952966368+0j)\n",
      "State |11010> with amplitude (0.1767766952966368+0j)\n",
      "State |11011> with amplitude (0.1767766952966368+0j)\n",
      "State |11100> with amplitude (0.1767766952966368+0j)\n",
      "State |11101> with amplitude (0.1767766952966368+0j)\n",
      "State |11110> with amplitude (0.1767766952966368+0j)\n",
      "State |11111> with amplitude (0.1767766952966368+0j)\n"
     ]
    }
   ],
   "source": [
    " #Let us import some qpu connected to a classical linear algebra simulator\n",
    "from qat.qpus import LinAlg\n",
    "qpu = LinAlg()\n",
    "\n",
    "#Create a job from the circuit\n",
    "job = circuit.to_job()\n",
    "\n",
    "#Submit the job\n",
    "results = qpu.submit(job)\n",
    "\n",
    "#Print the results\n",
    "for sample in results:\n",
    "    print(\"State\",sample.state,\"with amplitude\",sample.amplitude)"
   ]
  },
  {
   "cell_type": "markdown",
   "metadata": {},
   "source": [
    "The initial state of all qubits is |0>. Applying a QFT on a register in state |00..00> produces a superposition of all possible states."
   ]
  },
  {
   "cell_type": "markdown",
   "metadata": {},
   "source": [
    "## myQFT QRoutine"
   ]
  },
  {
   "cell_type": "markdown",
   "metadata": {},
   "source": [
    "It is possible to create quantum functions that we call QRoutines.\n",
    "\n",
    "Here we are going to create a QRoutine for a generalized QFT so we can apply it as any Gate.\n",
    "\n",
    "Moreover we will be able to call our QFT with any number of qubits. Be carefull since the memory needed grows exponentially with the number of qubits.\n",
    "\n",
    "The following cell describes a way to implement the generalized QFT:\n",
    "+ we define our function's name and the parameter we will need\n",
    "+ we define our QRoutine's object\n",
    "+ we apply the gates we need to the QRoutine\n",
    "\n",
    "As you can see, gates on a QRoutine only need indices."
   ]
  },
  {
   "cell_type": "code",
   "execution_count": 8,
   "metadata": {},
   "outputs": [],
   "source": [
    "#Create the QFT QRoutine \n",
    "def my_QFT(n):\n",
    "    my_qftn = QRoutine()\n",
    "    \n",
    "    for i in range(n):\n",
    "        my_qftn.apply(H,i)\n",
    "        for j in range(i+1,n):\n",
    "            angle = math.pi / pow(2,j - i)\n",
    "            my_qftn.apply(PH(angle).ctrl(),j,i)\n",
    "    return my_qftn"
   ]
  },
  {
   "cell_type": "markdown",
   "metadata": {},
   "source": [
    "Now that we have our generalized QFT defined as my_QFT we can call it inside a program as a gate.\n",
    "\n",
    "The following cell creates a program that call my_QFT on 5 qubits."
   ]
  },
  {
   "cell_type": "code",
   "execution_count": 9,
   "metadata": {},
   "outputs": [
    {
     "data": {
      "image/png": "[encoded data removed]",
      "text/plain": [
       "<IPython.core.display.Image object>"
      ]
     },
     "execution_count": 9,
     "metadata": {},
     "output_type": "execute_result"
    }
   ],
   "source": [
    "#Create the program\n",
    "QFT_prog2 = Program()\n",
    "\n",
    "#Define the number of qubits\n",
    "nbqubits = 5\n",
    "\n",
    "#Allocate qubits\n",
    "qubits = QFT_prog2.qalloc(nbqubits)\n",
    "\n",
    "#Applying gates\n",
    "QFT_prog2.apply(my_QFT(nbqubits),qubits)\n",
    "\n",
    "#Create circuit\n",
    "circuit = QFT_prog2.to_circ()\n",
    "\n",
    "#Display circuit\n",
    "%qatdisplay circuit"
   ]
  },
  {
   "cell_type": "markdown",
   "metadata": {},
   "source": [
    "You can simulate the circuit by using the following cell:"
   ]
  },
  {
   "cell_type": "code",
   "execution_count": 10,
   "metadata": {},
   "outputs": [
    {
     "name": "stdout",
     "output_type": "stream",
     "text": [
      "State |00000> with amplitude (0.1767766952966368+0j) with probability 0.031249999999999976\n",
      "State |00001> with amplitude (0.1767766952966368+0j) with probability 0.031249999999999976\n",
      "State |00010> with amplitude (0.1767766952966368+0j) with probability 0.031249999999999976\n",
      "State |00011> with amplitude (0.1767766952966368+0j) with probability 0.031249999999999976\n",
      "State |00100> with amplitude (0.1767766952966368+0j) with probability 0.031249999999999976\n",
      "State |00101> with amplitude (0.1767766952966368+0j) with probability 0.031249999999999976\n",
      "State |00110> with amplitude (0.1767766952966368+0j) with probability 0.031249999999999976\n",
      "State |00111> with amplitude (0.1767766952966368+0j) with probability 0.031249999999999976\n",
      "State |01000> with amplitude (0.1767766952966368+0j) with probability 0.031249999999999976\n",
      "State |01001> with amplitude (0.1767766952966368+0j) with probability 0.031249999999999976\n",
      "State |01010> with amplitude (0.1767766952966368+0j) with probability 0.031249999999999976\n",
      "State |01011> with amplitude (0.1767766952966368+0j) with probability 0.031249999999999976\n",
      "State |01100> with amplitude (0.1767766952966368+0j) with probability 0.031249999999999976\n",
      "State |01101> with amplitude (0.1767766952966368+0j) with probability 0.031249999999999976\n",
      "State |01110> with amplitude (0.1767766952966368+0j) with probability 0.031249999999999976\n",
      "State |01111> with amplitude (0.1767766952966368+0j) with probability 0.031249999999999976\n",
      "State |10000> with amplitude (0.1767766952966368+0j) with probability 0.031249999999999976\n",
      "State |10001> with amplitude (0.1767766952966368+0j) with probability 0.031249999999999976\n",
      "State |10010> with amplitude (0.1767766952966368+0j) with probability 0.031249999999999976\n",
      "State |10011> with amplitude (0.1767766952966368+0j) with probability 0.031249999999999976\n",
      "State |10100> with amplitude (0.1767766952966368+0j) with probability 0.031249999999999976\n",
      "State |10101> with amplitude (0.1767766952966368+0j) with probability 0.031249999999999976\n",
      "State |10110> with amplitude (0.1767766952966368+0j) with probability 0.031249999999999976\n",
      "State |10111> with amplitude (0.1767766952966368+0j) with probability 0.031249999999999976\n",
      "State |11000> with amplitude (0.1767766952966368+0j) with probability 0.031249999999999976\n",
      "State |11001> with amplitude (0.1767766952966368+0j) with probability 0.031249999999999976\n",
      "State |11010> with amplitude (0.1767766952966368+0j) with probability 0.031249999999999976\n",
      "State |11011> with amplitude (0.1767766952966368+0j) with probability 0.031249999999999976\n",
      "State |11100> with amplitude (0.1767766952966368+0j) with probability 0.031249999999999976\n",
      "State |11101> with amplitude (0.1767766952966368+0j) with probability 0.031249999999999976\n",
      "State |11110> with amplitude (0.1767766952966368+0j) with probability 0.031249999999999976\n",
      "State |11111> with amplitude (0.1767766952966368+0j) with probability 0.031249999999999976\n"
     ]
    }
   ],
   "source": [
    " #Let us import some qpu connected to a classical linear algebra simulator\n",
    "from qat.qpus import LinAlg\n",
    "qpu = LinAlg()\n",
    "\n",
    "#Create the associated job of a circuit\n",
    "job = circuit.to_job()\n",
    "\n",
    "#Submit the job and get the results\n",
    "results = qpu.submit(job)\n",
    "\n",
    "#Print the results\n",
    "for sample in results:\n",
    "    print(\"State\",sample.state,\"with amplitude\",sample.amplitude,\"with probability\",sample.probability)"
   ]
  },
  {
   "cell_type": "markdown",
   "metadata": {},
   "source": [
    "This section was meant to show you how to use QRoutines."
   ]
  },
  {
   "cell_type": "markdown",
   "metadata": {},
   "source": [
    "## QLM function for QFT"
   ]
  },
  {
   "cell_type": "markdown",
   "metadata": {},
   "source": [
    "Some QRoutines are already implemented like the QFT. Let's have a look at how to call them.\n",
    "\n",
    "First we need to import the qftarith library:"
   ]
  },
  {
   "cell_type": "code",
   "execution_count": 11,
   "metadata": {},
   "outputs": [],
   "source": [
    "#Import AQASM \n",
    "from qat.lang.AQASM import *\n",
    "\n",
    "#Import the QFT function of the QLM\n",
    "from qat.lang.AQASM.qftarith import QFT"
   ]
  },
  {
   "cell_type": "markdown",
   "metadata": {},
   "source": [
    "Once it is done we call the QFT function as a Gate. Please complete the following cell with the right name to apply the QFT:"
   ]
  },
  {
   "cell_type": "code",
   "execution_count": 14,
   "metadata": {},
   "outputs": [
    {
     "data": {
      "image/png": "[encoded data removed]",
      "text/plain": [
       "<IPython.core.display.Image object>"
      ]
     },
     "execution_count": 14,
     "metadata": {},
     "output_type": "execute_result"
    }
   ],
   "source": [
    "#Create a program\n",
    "my_program = Program()\n",
    "\n",
    "#Define the number of qubits\n",
    "nbqubits = 5\n",
    "\n",
    "#Allocate qubits\n",
    "qubits = my_program.qalloc(nbqubits)\n",
    "\n",
    "#Apply the QFT function\n",
    "my_program.apply(QFT(nbqubits),qubits)\n",
    "\n",
    "#Create the circuit\n",
    "circuit = my_program.to_circ()\n",
    "\n",
    "#Display the circuit\n",
    "%qatdisplay circuit --depth 1"
   ]
  },
  {
   "cell_type": "markdown",
   "metadata": {},
   "source": [
    "Once done you can simulate the circuit as before using the following cell:"
   ]
  },
  {
   "cell_type": "code",
   "execution_count": 13,
   "metadata": {},
   "outputs": [
    {
     "name": "stdout",
     "output_type": "stream",
     "text": [
      "State |00000> with amplitude (0.1767766952966368+0j)\n",
      "State |00001> with amplitude (0.1767766952966368+0j)\n",
      "State |00010> with amplitude (0.1767766952966368+0j)\n",
      "State |00011> with amplitude (0.1767766952966368+0j)\n",
      "State |00100> with amplitude (0.1767766952966368+0j)\n",
      "State |00101> with amplitude (0.1767766952966368+0j)\n",
      "State |00110> with amplitude (0.1767766952966368+0j)\n",
      "State |00111> with amplitude (0.1767766952966368+0j)\n",
      "State |01000> with amplitude (0.1767766952966368+0j)\n",
      "State |01001> with amplitude (0.1767766952966368+0j)\n",
      "State |01010> with amplitude (0.1767766952966368+0j)\n",
      "State |01011> with amplitude (0.1767766952966368+0j)\n",
      "State |01100> with amplitude (0.1767766952966368+0j)\n",
      "State |01101> with amplitude (0.1767766952966368+0j)\n",
      "State |01110> with amplitude (0.1767766952966368+0j)\n",
      "State |01111> with amplitude (0.1767766952966368+0j)\n",
      "State |10000> with amplitude (0.1767766952966368+0j)\n",
      "State |10001> with amplitude (0.1767766952966368+0j)\n",
      "State |10010> with amplitude (0.1767766952966368+0j)\n",
      "State |10011> with amplitude (0.1767766952966368+0j)\n",
      "State |10100> with amplitude (0.1767766952966368+0j)\n",
      "State |10101> with amplitude (0.1767766952966368+0j)\n",
      "State |10110> with amplitude (0.1767766952966368+0j)\n",
      "State |10111> with amplitude (0.1767766952966368+0j)\n",
      "State |11000> with amplitude (0.1767766952966368+0j)\n",
      "State |11001> with amplitude (0.1767766952966368+0j)\n",
      "State |11010> with amplitude (0.1767766952966368+0j)\n",
      "State |11011> with amplitude (0.1767766952966368+0j)\n",
      "State |11100> with amplitude (0.1767766952966368+0j)\n",
      "State |11101> with amplitude (0.1767766952966368+0j)\n",
      "State |11110> with amplitude (0.1767766952966368+0j)\n",
      "State |11111> with amplitude (0.1767766952966368+0j)\n"
     ]
    }
   ],
   "source": [
    " #Let us import some qpu connected to a classical linear algebra simulator\n",
    "from qat.qpus import LinAlg\n",
    "qpu = LinAlg()\n",
    "\n",
    "#Create the job\n",
    "job = circuit.to_job()\n",
    "\n",
    "#Submit the job\n",
    "results = qpu.submit(job)\n",
    "\n",
    "#Print results\n",
    "for sample in results:\n",
    "    print(\"State\",sample.state,\"with amplitude\",sample.amplitude)"
   ]
  },
  {
   "cell_type": "markdown",
   "metadata": {},
   "source": [
    "Notice that you can modify the number of qubits. Be gentle, you are not alone using the QLM today."
   ]
  },
  {
   "cell_type": "code",
   "execution_count": null,
   "metadata": {},
   "outputs": [],
   "source": []
  }
 ],
 "metadata": {
  "kernelspec": {
   "display_name": "Python 3 (ipykernel)",
   "language": "python",
   "name": "python3"
  },
  "language_info": {
   "codemirror_mode": {
    "name": "ipython",
    "version": 3
   },
   "file_extension": ".py",
   "mimetype": "text/x-python",
   "name": "python",
   "nbconvert_exporter": "python",
   "pygments_lexer": "ipython3",
   "version": "3.9.12"
  }
 },
 "nbformat": 4,
 "nbformat_minor": 1
}
