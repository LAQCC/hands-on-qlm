{
 "cells": [
  {
   "cell_type": "markdown",
   "metadata": {},
   "source": [
    "# Hands-on 6: Simulated Quantum Annealing (SQA)"
   ]
  },
  {
   "cell_type": "markdown",
   "metadata": {},
   "source": [
    "## A simple graph\n",
    "For the first exercise with SQA we are going to do a simple graph like the following:\n",
    "<table>\n",
    "    <tr><td>\n",
    "        <img src=\"graph1.png\" width=\"33%\"></td>\n",
    "    </tr>\n",
    "</table>\n",
    "And apply a maxcut using SQA on the QLM."
   ]
  },
  {
   "cell_type": "markdown",
   "metadata": {},
   "source": [
    "### Step1: Create the graph\n",
    "To create the graph you need to:\n",
    "- import networkx\n",
    "- create a graph by using the function Graph from networkx\n",
    "- add the nodes to your graph by using add_nodes_from\n",
    "- add the edges between the nodes by using add_edge"
   ]
  },
  {
   "cell_type": "code",
   "execution_count": null,
   "metadata": {},
   "outputs": [],
   "source": [
    "#Import networkx & pyplot from matplotlib\n",
    "import XXX as nx\n",
    "\n",
    "#Create our graph object\n",
    "G = nx.XXX()\n",
    "\n",
    "#Add our nodes\n",
    "G.XXX([0, 1, 2, 3, 4])\n",
    "\n",
    "#Add the edges\n",
    "G.add_edge(XXX, XXX)\n",
    "G.add_edge(XXX, XXX)\n",
    "G.add_edge(XXX, XXX)\n",
    "G.add_edge(XXX, XXX)\n",
    "\n",
    "#Plot our graph (nothing to complete here)\n",
    "import matplotlib.pyplot as plt\n",
    "plt.figure(figsize=(8, 8))\n",
    "nodes_positions = nx.spring_layout(G, iterations=len(G.nodes())*100)\n",
    "nx.draw_networkx(G, \n",
    "                 pos=nodes_positions, \n",
    "                 node_color='#4EEA6A', \n",
    "                 node_size=440, \n",
    "                 font_size=14)\n",
    "plt.show()"
   ]
  },
  {
   "cell_type": "markdown",
   "metadata": {},
   "source": [
    "### Step 2: Create our problem\n",
    "Create a max-cut problem on the QLM is simple once you have the graph:\n",
    "- import the function MaxCut from qat.opt\n",
    "- Create your problem object by using MaxCut on your Graph"
   ]
  },
  {
   "cell_type": "code",
   "execution_count": null,
   "metadata": {},
   "outputs": [],
   "source": [
    "#Import MaxCut from qat.opt\n",
    "from XXX import XXX\n",
    "\n",
    "#Create our problem from our graph with MaxCut\n",
    "max_cut_problem = XXX(XXX)"
   ]
  },
  {
   "cell_type": "markdown",
   "metadata": {},
   "source": [
    "### Step 3: Solve it using SQA\n",
    "Once the problem created we can solve it by parametrizing the annealing:\n",
    "- import numpy to deal with the parameters\n",
    "- extract J, h and offset enery using get_j_h_and_offset on the problem\n",
    "- parametrize the annealing by specifying the number of steps, the lists for gamma and the temperature.\n",
    "- do the annealing using sqa and the previous information\n",
    "- plot the results"
   ]
  },
  {
   "cell_type": "code",
   "execution_count": null,
   "metadata": {},
   "outputs": [],
   "source": [
    "from qat.mc import sqa\n",
    "help(sqa)\n",
    "sqa?"
   ]
  },
  {
   "cell_type": "code",
   "execution_count": null,
   "metadata": {},
   "outputs": [],
   "source": [
    "from qat.mc.annealers import cpp_sqa as sqa\n",
    "import XXX as np\n",
    "\n",
    "# 1. Extraction\n",
    "J_coupling, h_mag, offset_J = max_cut_problem.XXX()\n",
    "\n",
    "# 2. Load annealing parameters\n",
    "max_cut_parameters_dict = max_cut_problem.get_best_parameters()\n",
    "n_monte_carlo_updates = max_cut_parameters_dict[\"n_monte_carlo_updates\"]\n",
    "n_trotters = max_cut_parameters_dict[\"n_trotters\"]\n",
    "gamma_max = max_cut_parameters_dict[\"gamma_max\"]\n",
    "gamma_min = max_cut_parameters_dict[\"gamma_min\"]\n",
    "temp_max = max_cut_parameters_dict[\"temp_max\"]\n",
    "temp_min = max_cut_parameters_dict[\"temp_min\"] \n",
    "\n",
    "# 3. Create schedules for gamma and the temperature\n",
    "n_steps = int(n_monte_carlo_updates /\\\n",
    "              (n_trotters * len(h_mag))) # the last one is the number of spins, i.e. the problem size\n",
    "gamma_list = np.linspace(gamma_max, gamma_min, n_steps)\n",
    "temp_list = np.linspace(temp_max, temp_min, n_steps)\n",
    "\n",
    "# 4. Annealing\n",
    "solution_configuration = sqa(XXX, \n",
    "                             XXX,\n",
    "                             XXX, \n",
    "                             XXX, \n",
    "                             n_trotters=n_trotters)\n",
    "\n",
    "\n",
    "# 5. Present best configuration and subgraphs nodes  (nothing to complete here)\n",
    "print(\"Solution configuration: \\n\" + str(solution_configuration) + \"\\n\")\n",
    "indices_spin_1 = np.where(solution_configuration == 1)[0]\n",
    "print(\"The nodes in the first subgraph:\\n\" + str(indices_spin_1) + \"\\n\")\n",
    "indices_spin_minus_1 = np.where(solution_configuration == -1)[0]\n",
    "print(\"The nodes in the second subgraph:\\n\" + str(indices_spin_minus_1))\n",
    "\n",
    "# 6. Draw the coloured subgraphs (nothing to complete here)\n",
    "plt.figure(figsize=(8, 8))\n",
    "node_size = 440\n",
    "font_size = 14\n",
    "nx.draw_networkx(G, \n",
    "                 pos=nodes_positions, \n",
    "                 nodelist=indices_spin_1.tolist(), \n",
    "                 node_color='#FFE033', \n",
    "                 node_size=node_size, \n",
    "                 font_size=font_size)\n",
    "\n",
    "nx.draw_networkx(G, \n",
    "                 pos=nodes_positions, \n",
    "                 nodelist=indices_spin_minus_1.tolist(), \n",
    "                 node_color='#7B9BF2', \n",
    "                 node_size=node_size, \n",
    "                 font_size=font_size)\n",
    "\n",
    "nx.draw_networkx_edges(G, pos=nodes_positions)\n",
    "plt.show()"
   ]
  },
  {
   "cell_type": "markdown",
   "metadata": {},
   "source": [
    "## The example from the lecture"
   ]
  },
  {
   "cell_type": "markdown",
   "metadata": {},
   "source": [
    "Let's now try to do the example from the lecture, a max-cut on the following graph:\n",
    "<table>\n",
    "    <tr><td>\n",
    "        <img src=\"graph.PNG\" width=\"33%\"></td>\n",
    "    </tr>\n",
    "</table>\n",
    "We have just change the indexes of the nodes to begin at 0.\n",
    "\n",
    "The steps are the same as previously.\n",
    "\n",
    "### Step1: Create the graph\n",
    "To create the graph you need to:\n",
    "- import networkx\n",
    "- create a graph by using the function Graph from networkx\n",
    "- add the nodes to your graph by using add_nodes_from\n",
    "- add the edges between the nodes by using add_edge"
   ]
  },
  {
   "cell_type": "code",
   "execution_count": null,
   "metadata": {},
   "outputs": [],
   "source": [
    "#Import networkx \n",
    "import XXX as nx\n",
    "\n",
    "#Create our simple graph\n",
    "G2 = nx.XXX()\n",
    "G2.add_nodes_from([XXX, XXX, XXX, XXX, XXX])\n",
    "G2.add_edge(XXX, XXX)\n",
    "G2.add_edge(XXX, XXX)\n",
    "G2.add_edge(XXX, XXX)\n",
    "G2.add_edge(XXX, XXX)\n",
    "G2.add_edge(XXX, XXX)\n",
    "G2.add_edge(XXX, XXX)\n",
    "\n",
    "\n",
    "#Plot our graph (nothing to complete here)\n",
    "import matplotlib.pyplot as plt\n",
    "plt.figure(figsize=(8, 8))\n",
    "nodes_positions = nx.spring_layout(G2, iterations=len(G2.nodes())*100)\n",
    "nx.draw_networkx(G2, \n",
    "                 pos=nodes_positions, \n",
    "                 node_color='#4EEA6A', \n",
    "                 node_size=440, \n",
    "                 font_size=14)\n",
    "plt.show()"
   ]
  },
  {
   "cell_type": "markdown",
   "metadata": {},
   "source": [
    "### Step 2: Create our problem\n",
    "Create a max-cut problem on the QLM is simple once you have the graph:\n",
    "- import the function MaxCut from qat.opt\n",
    "- Create your problem object by using MaxCut on your Graph"
   ]
  },
  {
   "cell_type": "code",
   "execution_count": null,
   "metadata": {},
   "outputs": [],
   "source": [
    "#Import MaxCut from qat.opt\n",
    "from XXX import XXX\n",
    "\n",
    "#Create our problem from our graph with MaxCut\n",
    "max_cut_problem = MaxCut(XXX)"
   ]
  },
  {
   "cell_type": "markdown",
   "metadata": {},
   "source": [
    "### Step 3: Solve it using SQA\n",
    "Once the problem created we can solve it by parametrizing the annealing:\n",
    "- import numpy to deal with the parameters\n",
    "- extract J, h and offset enery using get_j_h_and_offset on the problem\n",
    "- parametrize the annealing by specifying the number of steps, the lists for gamma and the temperature.\n",
    "- do the annealing using sqa and the previous information\n",
    "- plot the results"
   ]
  },
  {
   "cell_type": "code",
   "execution_count": null,
   "metadata": {
    "scrolled": true
   },
   "outputs": [],
   "source": [
    "from qat.mc.annealers import cpp_sqa as sqa\n",
    "import XXX as np\n",
    "\n",
    "# 1. Extraction\n",
    "J_coupling, h_mag, offset_J = max_cut_problem.XXX()\n",
    "\n",
    "# 2. Load annealing parameters\n",
    "max_cut_parameters_dict = max_cut_problem.get_best_parameters()\n",
    "n_monte_carlo_updates = max_cut_parameters_dict[\"n_monte_carlo_updates\"]\n",
    "n_trotters = max_cut_parameters_dict[\"n_trotters\"]\n",
    "gamma_max = max_cut_parameters_dict[\"gamma_max\"]\n",
    "gamma_min = max_cut_parameters_dict[\"gamma_min\"]\n",
    "temp_max = max_cut_parameters_dict[\"temp_max\"]\n",
    "temp_min = max_cut_parameters_dict[\"temp_min\"] \n",
    "\n",
    "# 3. Create schedules for gamma and the temperature\n",
    "n_steps = int(n_monte_carlo_updates /\\\n",
    "              (n_trotters * len(h_mag))) # the last one is the number of spins, i.e. the problem size\n",
    "gamma_list = np.linspace(gamma_max, gamma_min, n_steps)\n",
    "temp_list = np.linspace(temp_max, temp_min, n_steps)\n",
    "\n",
    "# 4. Annealing\n",
    "solution_configuration = sqa(XXX, \n",
    "                             XXX,\n",
    "                             XXX, \n",
    "                             XXX, \n",
    "                             n_trotters=n_trotters)\n",
    "\n",
    "# 5. Present best configuration and subgraphs nodes (nothing to complete here)\n",
    "print(\"Solution configuration: \\n\" + str(solution_configuration) + \"\\n\")\n",
    "indices_spin_1 = np.where(solution_configuration == 1)[0]\n",
    "print(\"The nodes in the first subgraph:\\n\" + str(indices_spin_1) + \"\\n\")\n",
    "indices_spin_minus_1 = np.where(solution_configuration == -1)[0]\n",
    "print(\"The nodes in the second subgraph:\\n\" + str(indices_spin_minus_1))\n",
    "\n",
    "# 6. Draw the coloured subgraphs (nothing to complete here)\n",
    "plt.figure(figsize=(8, 8))\n",
    "node_size = 440\n",
    "font_size = 14\n",
    "nx.draw_networkx(G2, \n",
    "                 pos=nodes_positions, \n",
    "                 nodelist=indices_spin_1.tolist(), \n",
    "                 node_color='#FFE033', \n",
    "                 node_size=node_size, \n",
    "                 font_size=font_size)\n",
    "\n",
    "nx.draw_networkx(G2, \n",
    "                 pos=nodes_positions, \n",
    "                 nodelist=indices_spin_minus_1.tolist(), \n",
    "                 node_color='#7B9BF2', \n",
    "                 node_size=node_size, \n",
    "                 font_size=font_size)\n",
    "\n",
    "nx.draw_networkx_edges(G2, pos=nodes_positions)\n",
    "plt.show()"
   ]
  },
  {
   "cell_type": "code",
   "execution_count": null,
   "metadata": {},
   "outputs": [],
   "source": []
  }
 ],
 "metadata": {
  "kernelspec": {
   "display_name": "Python 3 (ipykernel)",
   "language": "python",
   "name": "python3"
  },
  "language_info": {
   "codemirror_mode": {
    "name": "ipython",
    "version": 3
   },
   "file_extension": ".py",
   "mimetype": "text/x-python",
   "name": "python",
   "nbconvert_exporter": "python",
   "pygments_lexer": "ipython3",
   "version": "3.9.7"
  }
 },
 "nbformat": 4,
 "nbformat_minor": 2
}
