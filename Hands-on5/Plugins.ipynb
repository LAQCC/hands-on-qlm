{
 "cells": [
  {
   "cell_type": "markdown",
   "metadata": {},
   "source": [
    "# Hands-on 5: Plugins"
   ]
  },
  {
   "cell_type": "markdown",
   "metadata": {},
   "source": [
    "## Introduction to plugins\n",
    "In order to simplify the design of applications, QLM comes with an additional API, called `Plugin`. `Plugins` are object that can process a flow of quantum circuits (or jobs) on their way to a `QPU`, and/or process a flow of information (samples or values) on their way back from a `QPU`.\n",
    "\n",
    "Their API is composed of two methods:\n",
    "- **compile** for the way in (i.e from the user to the `QPU`). This method will take a `Batch` together with some `HardwareSpecs` and return a new `Batch`.\n",
    "- **post_process** for the way out (i.e from the `QPU` to the user). This method will process a `BatchResult` and return either a `BatchResult` or a new `Batch` that should go back to the `QPU`.\n",
    "\n",
    "This simple semantics allow to compose `Plugin` to form expressive compilation stacks and extend the features provided by a `QPU`.\n",
    "\n",
    "Creating a stack using plugins is quite straightforward:\n",
    "\n",
    "> my_stack = plugin1 | plugin2 | ... | my_qpu\n",
    "\n",
    "In this code, when a fresh batch or job is submitted, the batch will run through the `compile()` of *plugin1*, the resulting batch will run through the `compile()` of *plugin2*, etc. When reaching my_qpu the execution will start, and the results will be processed in reversed order on their way back.\n",
    "\n",
    "Overall the information flow can be summed up as follows:\n",
    "\n",
    "![figure](./plugins.png)"
   ]
  },
  {
   "cell_type": "markdown",
   "metadata": {},
   "source": [
    "## Writing your own plugin\n",
    "**GOAL:** In the following jupyter our goal is to implement a plugin that erases every pattern of two consecutive hadamard gates (when on the same qubit).\n",
    "\n",
    "The first step, as usual, is to import some classes.\n",
    "\n",
    "We first need `Batch` and `HardwareSpecs` objects from `qat.core`:\n",
    "- A `Batch` object contains a list of jobs that allows to send several circuits to a QPU with only a single request to the QPU or to a stack.\n",
    "- A `HardwareSpecs` object contains the information from the Hardware like the number of qubits or the topology.\n",
    "\n",
    "Secondly, we need the function `get_syntax` from `qat.core.util`. `get_syntax` will be usefull to obtain the information of the circuit from a job.\n",
    "\n",
    "Last, we need `AbstractPlugin` object from qat.core.plugins to inherit our plugin from it."
   ]
  },
  {
   "cell_type": "code",
   "execution_count": null,
   "metadata": {},
   "outputs": [],
   "source": [
    "from XXX.XXX import XXX, XXX\n",
    "from XXX.XXX.XXX import XXX\n",
    "from XXX.XXX.XXX import XXX"
   ]
  },
  {
   "cell_type": "markdown",
   "metadata": {},
   "source": [
    "In the next cell we will create the plugin to suppress two consecutive hadamard gates (on the same qubit).\n",
    "\n",
    "To do so:\n",
    "- Find a name for your plugin.\n",
    "- Complete the `compile` function so it modifies and returns the modified batch. \n",
    "\n",
    "`get_syntax(circuit, index)` allows to get information of the instruction at this `index`. The result is an array containing three components:\n",
    "- Name of the gate applied\n",
    "- List of the angles used\n",
    "- List of the qubits on which its applied\n",
    "\n",
    "Example: \n",
    "\n",
    "- An Hadamard gate (applied on the first qubit of the program) will look like that ('H', [], [0]).\n",
    "- A control-NOT gate (with the first qubit of the program controlling the operation) will look like that ('CNOT', [], [0, 1])"
   ]
  },
  {
   "cell_type": "code",
   "execution_count": null,
   "metadata": {},
   "outputs": [],
   "source": [
    "## Our Plugin should inherit from the AbstractPlugin class:\n",
    "class XXX(AbstractPlugin):\n",
    "    ## Plugins must implement a compile method\n",
    "    ## here batch will be a Batch object (see doc) that contains a list of Jobs.\n",
    "    def compile(self, batch : Batch, specs : HardwareSpecs) -> Batch:\n",
    "        ##We need do apply our plugin to all the jobs in our batch.\n",
    "        for count, job in enumerate(batch.jobs):\n",
    "            ##last_op is a vector. Its size is equal to the number of qubits in the circuit.\n",
    "            ##This vector is used to specify if the last operation was an Hadamard gate or not.\n",
    "            ##If 0, it is not an Hadamard otherwise it should contain the index+1 of the operation's line.\n",
    "            last_op = np.zeros(job.circuit.nbqbits, dtype=int)\n",
    "            index = 0\n",
    "            ##Loop over all the operations.\n",
    "            while index < len(job.circuit.ops):\n",
    "                ##Get the syntax of the operation at number \"index\"\n",
    "                syntax = get_syntax(job.circuit, XXX)\n",
    "                ##Test if the gate is a Hadamard gate.\n",
    "                if syntax[XXX] == 'XXX':\n",
    "                    ##If the last operation is a Hadamard gate.\n",
    "                    if last_op[syntax[2][0]] != XXX:\n",
    "                        ##Suppress the line of last op\n",
    "                        job.circuit.ops.pop(last_op[syntax[XXX][XXX]]-1)\n",
    "                        \n",
    "                        ##Actualize the index\n",
    "                        index = XXX - 1\n",
    "                        \n",
    "                        ##Suppress the line of index\n",
    "                        job.circuit.ops.pop(XXX)\n",
    "                        \n",
    "                        ##Actualise indices of the vector last_op since an operation has been suppressed\n",
    "                        ##Loop over all indices of the vector last_op\n",
    "                        for j in range(len(XXX)):\n",
    "                            if last_op[j] > last_op[syntax[2][0]]:\n",
    "                                last_op[j] = last_op[j] - 1\n",
    "                        last_op[syntax[2][0]] = 0\n",
    "                        index = index - 1\n",
    "                    ##If the last operation is a Hadamard gate\n",
    "                    else:\n",
    "                        ##Actualise last op with the right index\n",
    "                        last_op[syntax[2][0]] = XXX + 1\n",
    "                ##If the gate is not a Hadamard gate.\n",
    "                else:\n",
    "                    ##Actualize the last operation\n",
    "                    for i in syntax[2]:\n",
    "                        last_op[i] = XXX \n",
    "                index = index + 1\n",
    "        return batch\n",
    "    \n",
    "    ## We do not want to do anything in post-processing.\n",
    "    def do_post_processing(self) -> bool:\n",
    "        return True\n",
    "    \n",
    "    def post_process(self, batch_result):\n",
    "        return batch_result"
   ]
  },
  {
   "cell_type": "markdown",
   "metadata": {},
   "source": [
    "To test our plugin we need to create a simple test case:"
   ]
  },
  {
   "cell_type": "code",
   "execution_count": null,
   "metadata": {},
   "outputs": [],
   "source": [
    "from qat.lang.AQASM import *\n",
    "prog = Program()\n",
    "qbits = prog.qalloc(1)\n",
    "\n",
    "prog.apply(H, qbits[0])\n",
    "prog.apply(H, qbits[0])\n",
    "\n",
    "circ = prog.to_circ()\n",
    "\n",
    "%qatdisplay circ\n"
   ]
  },
  {
   "cell_type": "markdown",
   "metadata": {},
   "source": [
    "Now we need to create the stack:\n",
    "- Define the name of your stack.\n",
    "- Use your plugin in the stack.\n",
    "- We will use LinAlg as a simulator.\n",
    "\n",
    "Once that's done we need to create and submit the job to our stack."
   ]
  },
  {
   "cell_type": "code",
   "execution_count": null,
   "metadata": {},
   "outputs": [],
   "source": [
    "from qat.qpus import LinAlg\n",
    "import numpy as np\n",
    "XXX = XXX() | LinAlg()\n",
    "\n",
    "job = circ.to_job()\n",
    "results = XXX.submit(job)\n",
    "\n",
    "%qatdisplay circ"
   ]
  },
  {
   "cell_type": "markdown",
   "metadata": {
    "collapsed": true
   },
   "source": [
    "At the end you should be able to modify the circuit to suppress the right gates.\n",
    "I Advise you to modify the test circuit to verify your plugin:\n",
    "- Add qubits\n",
    "- Add gates"
   ]
  },
  {
   "cell_type": "code",
   "execution_count": null,
   "metadata": {},
   "outputs": [],
   "source": []
  }
 ],
 "metadata": {
  "kernelspec": {
   "display_name": "Python 3 (ipykernel)",
   "language": "python",
   "name": "python3"
  },
  "language_info": {
   "codemirror_mode": {
    "name": "ipython",
    "version": 3
   },
   "file_extension": ".py",
   "mimetype": "text/x-python",
   "name": "python",
   "nbconvert_exporter": "python",
   "pygments_lexer": "ipython3",
   "version": "3.9.12"
  }
 },
 "nbformat": 4,
 "nbformat_minor": 2
}
