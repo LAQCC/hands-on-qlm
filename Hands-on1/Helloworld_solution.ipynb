{
 "cells": [
  {
   "cell_type": "markdown",
   "metadata": {
    "qat-category": "1-Circuit generation in Python",
    "qat-summary": "1-Creation of an EPR pair using two qubits"
   },
   "source": [
    "# Quantum Helloworld: Creation of an EPR pair\n",
    "\n",
    "\n",
    "The goal of this jupyter notebook is to make you create your first quantum program in pyAQASM.\n",
    "This will lead us to see the main functionnalities to create a quantum program:\n",
    "\n",
    "+ create an object program\n",
    "+ allocate a register of qubits\n",
    "+ apply gates\n",
    "+ generate the circuit from the program\n",
    "+ create a job\n",
    "+ submit a job\n",
    "\n",
    "We will do it step by step to create an EPR pair. The circuit looks like that:\n",
    "\n",
    "<table>\n",
    "    <tr><td>\n",
    "        <img src=\"epr.png\" width=\"33%\"></td>\n",
    "    </tr>\n",
    "</table>\n"
   ]
  },
  {
   "cell_type": "markdown",
   "metadata": {},
   "source": [
    "## First step: Create a program\n",
    "\n",
    "To create a quantum circuit the first step on a QLM is to create a variable that will hold the program.\n",
    "This first step can be done this way :\n",
    "\n",
    "+ import the functions from qat.lang.AQASM\n",
    "+ create a program variable\n",
    "\n",
    "Complete the following cell to import the functions from qat.lang.AQASM:"
   ]
  },
  {
   "cell_type": "code",
   "execution_count": 14,
   "metadata": {},
   "outputs": [],
   "source": [
    "from qat.lang.AQASM import *"
   ]
  },
  {
   "cell_type": "markdown",
   "metadata": {},
   "source": [
    "Once this step is done we can create a program object.\n",
    "\n",
    "To do so you need:\n",
    "+ to define a name for the variable of your program\n",
    "+ to call from the library AQASM the function Program\n",
    "\n",
    "Complete the following cell with: \n",
    "+ a name for your program"
   ]
  },
  {
   "cell_type": "code",
   "execution_count": 15,
   "metadata": {},
   "outputs": [],
   "source": [
    "prog = Program() "
   ]
  },
  {
   "cell_type": "markdown",
   "metadata": {},
   "source": [
    "We now have a variable that will be able to hold the program we want to implement. We will see in the next part how to allocate the qubits."
   ]
  },
  {
   "cell_type": "markdown",
   "metadata": {},
   "source": [
    "## Second step: Allocate the qubits\n",
    "\n",
    "<table>\n",
    "    <tr><td>\n",
    "        <img src=\"epr.png\" width=\"33%\"></td>\n",
    "    </tr>\n",
    "</table>\n",
    "\n",
    "For our example we need to allocate two qubits in our program.\n",
    "\n",
    "We need to:\n",
    "+ define the name for our register of qubits\n",
    "+ call the function qalloc on our program\n",
    "+ define the number of qubits we want\n",
    "\n",
    "Complete the following cell to create two qubits:"
   ]
  },
  {
   "cell_type": "code",
   "execution_count": 16,
   "metadata": {},
   "outputs": [],
   "source": [
    "qbits = prog.qalloc(2) "
   ]
  },
  {
   "cell_type": "markdown",
   "metadata": {},
   "source": [
    "## Third step: Applying gates"
   ]
  },
  {
   "cell_type": "markdown",
   "metadata": {},
   "source": [
    "Now, we can have access to our qbits using the name of the register.\n",
    "\n",
    "Registers behave like python list/arrays, for example if you named your register QUBIT_REGISTER:\n",
    "+ QUBIT_REGISTER[0] is the first qubit.\n",
    "+ QUBIT_REGISTER[1] is the second qubit.\n",
    "\n",
    "To create our EPR pair, we simply need to apply the appropriate gates :\n",
    "+ a Hadamard gate (H)\n",
    "+ a controlled NOT gate (CNOT)\n",
    "\n",
    "Let's apply the Hadamard gate on the first qubit.\n",
    "To do so we need to:\n",
    "+ specify on which program we wish to apply our gate\n",
    "+ specify the gate we wish to apply\n",
    "+ specify the name of the qubit register we wish to apply the gate\n",
    "+ specify the index of the qubit inside the register\n",
    "\n",
    "The Hadamard gate is of arity 1 since it affects one qubit. \n",
    "\n",
    "Complete the following cell :"
   ]
  },
  {
   "cell_type": "code",
   "execution_count": 17,
   "metadata": {},
   "outputs": [],
   "source": [
    "prog.apply(H, qbits[0]) "
   ]
  },
  {
   "cell_type": "markdown",
   "metadata": {},
   "source": [
    "Once we have applied the Hadamard gate, we can apply the controlled NOT gate.\n",
    "\n",
    "A CNOT gate affects two qubits so it is a gate of arity 2.\n",
    "\n",
    "To do so we need to:\n",
    "+ specify on which program we wish to apply our gate\n",
    "+ specify the gate we wish to apply\n",
    "+ specify the first qubit which is the controller\n",
    "+ specify the second qubit which is affected by the controlled NOT"
   ]
  },
  {
   "cell_type": "code",
   "execution_count": 18,
   "metadata": {},
   "outputs": [],
   "source": [
    "prog.apply(CNOT, qbits[0],qbits[1])"
   ]
  },
  {
   "cell_type": "markdown",
   "metadata": {},
   "source": [
    "We have access to a variable containing our implementation of the EPR pair.\n",
    "\n",
    "We now need to create the circuit associated to this program."
   ]
  },
  {
   "cell_type": "markdown",
   "metadata": {},
   "source": [
    "## Fourth step: Create and visualize the circuit\n",
    "\n",
    "The QLM is based on an object called a circuit.\n",
    "\n",
    "Once a program is created it is possible to generate the circuit from it.\n",
    "\n",
    "A circuit can therefore be :\n",
    "+ executed\n",
    "+ optimized\n",
    "+ used to create other circuits\n",
    "\n",
    "To create your circuit you will need to:\n",
    "+ define the name of your cicuit\n",
    "+ call the function <i>to_circ</i> on your program\n",
    "\n",
    "Please, complete the following cell:"
   ]
  },
  {
   "cell_type": "code",
   "execution_count": 19,
   "metadata": {},
   "outputs": [],
   "source": [
    "circuit = prog.to_circ()"
   ]
  },
  {
   "cell_type": "markdown",
   "metadata": {},
   "source": [
    "Now that we have a proper circuit, we can vizualize it using:\n",
    "+ %qatdisplay CIRCUIT_NAME\n",
    "\n",
    "Try this in the following cell:"
   ]
  },
  {
   "cell_type": "code",
   "execution_count": 20,
   "metadata": {},
   "outputs": [
    {
     "data": {
      "image/png": "[encoded data removed]",
      "text/plain": [
       "<IPython.core.display.Image object>"
      ]
     },
     "execution_count": 20,
     "metadata": {},
     "output_type": "execute_result"
    }
   ],
   "source": [
    "%qatdisplay circuit"
   ]
  },
  {
   "cell_type": "markdown",
   "metadata": {},
   "source": [
    "The circuit vizualisation is a usefull tool to quickly verify if the implementation of a program went well."
   ]
  },
  {
   "cell_type": "markdown",
   "metadata": {},
   "source": [
    "## Fifth step: Execute the circuit"
   ]
  },
  {
   "cell_type": "markdown",
   "metadata": {},
   "source": [
    "### Full distribution"
   ]
  },
  {
   "cell_type": "markdown",
   "metadata": {},
   "source": [
    "The steps we have done before gave us a circuit.\n",
    "\n",
    "We now need to create a job from this circuit using the function <i>to_job</i> on our circuit.\n",
    "\n",
    "You can use the following cell to get more informations about the function <i>to_job</i>.\n"
   ]
  },
  {
   "cell_type": "code",
   "execution_count": 21,
   "metadata": {},
   "outputs": [
    {
     "name": "stdout",
     "output_type": "stream",
     "text": [
      "Help on method to_job in module qat.core.wrappers.circuit:\n",
      "\n",
      "to_job(job_type='SAMPLE', qubits=None, nbshots=0, aggregate_data=True, amp_threshold=9.094947017729282e-13, **kwargs) method of qat.core.wrappers.circuit.Circuit instance\n",
      "    Generates a Job containing the circuit and some post\n",
      "    processing information.\n",
      "    \n",
      "    Args:\n",
      "        job_type (str): possible values are \"SAMPLE\" for computational basis sampling\n",
      "            of some qubits, or \"OBS\" for observable evaluation\n",
      "            (see :py:mod:`qat.core.Observable`\n",
      "            for more information about this mode).\n",
      "        qubits (optional, list<int>, list<QRegister>): the list of qubits to measure\n",
      "            (in \"SAMPLE\" mode).\n",
      "            If some quantum register is passed instead, all the qubits of the register will be\n",
      "            measured. Moreover, if the register was \"typed\"\n",
      "            (see :meth:`qat.lang.AQASM.Program.qalloc`\n",
      "            for more information), the results will be cast into the register type.\n",
      "            Defaults to None,\n",
      "            meaning all qubits are to be measured.\n",
      "        nbshots (optional, int): The number of shots to perform. Defaults to zero.\n",
      "            If set to zero,\n",
      "            the convention is that the QPU should do its best: a quantum processor will\n",
      "            use the largest\n",
      "            amount of shot authorized by its configuration, while a simulator\n",
      "            will try to output\n",
      "            all the possible states constained in the final distribution, together with their\n",
      "            probabilities (and possible amplitudes).\n",
      "        aggregate_data (optional, bool): if set to True, and `nbshots` is not zero,\n",
      "            the samples will be\n",
      "            aggregated and their probability field will be used to store their\n",
      "            observed frequencies of apparition. Defaults to True.\n",
      "        amp_threshold (optional, double): amplitude threshold under which states are\n",
      "            not returned in the result structure. Useful to prune states that\n",
      "            are unlikely to be measured out of the\n",
      "            returned samples. Defaults to 1/2^40.\n",
      "    \n",
      "    Keyword Args:\n",
      "        observable (:class:`~qat.core.Observable`): see\n",
      "            :class:`~qat.core.Observable`. Used for the\n",
      "            \"OBS\" mode only).\n",
      "\n"
     ]
    }
   ],
   "source": [
    "help(circuit.to_job)"
   ]
  },
  {
   "cell_type": "markdown",
   "metadata": {},
   "source": [
    "To create a job we need to :\n",
    "+ define the name for your job\n",
    "+ call the function <i>to_job()</i> on a circuit\n",
    "\n",
    "We will call <i>to_job</i> without any parameter for this first time."
   ]
  },
  {
   "cell_type": "code",
   "execution_count": 22,
   "metadata": {},
   "outputs": [],
   "source": [
    "job = circuit.to_job()"
   ]
  },
  {
   "cell_type": "markdown",
   "metadata": {},
   "source": [
    "For this first time on a QLM we will focus on a perfect simulation based on linear algebra.\n",
    "\n",
    "Be aware that there exist five different perfect simulators and it is possible to do noisy simulation on the QLM.\n",
    "\n",
    "To make a simulation with our job on a QLM we need to submit it to a qpu.\n",
    "\n",
    "To do so we first need to:\n",
    "+ import the function LinAlg from qat.qpus\n",
    "+ create a qpu by calling LinAlg()"
   ]
  },
  {
   "cell_type": "code",
   "execution_count": 25,
   "metadata": {},
   "outputs": [
    {
     "ename": "AttributeError",
     "evalue": "module 'qat.comm.shared.ttypes' has no attribute 'ApplicationResult'",
     "output_type": "error",
     "traceback": [
      "\u001b[0;31m---------------------------------------------------------------------------\u001b[0m",
      "\u001b[0;31mAttributeError\u001b[0m                            Traceback (most recent call last)",
      "Cell \u001b[0;32mIn [25], line 1\u001b[0m\n\u001b[0;32m----> 1\u001b[0m \u001b[38;5;28;01mimport\u001b[39;00m \u001b[38;5;21;01mqat\u001b[39;00m\u001b[38;5;21;01m.\u001b[39;00m\u001b[38;5;21;01mqpus\u001b[39;00m \u001b[38;5;28;01mas\u001b[39;00m \u001b[38;5;21;01mqpu\u001b[39;00m\n\u001b[1;32m      2\u001b[0m linalgqpu \u001b[38;5;241m=\u001b[39m qpu\u001b[38;5;241m.\u001b[39mLinalg()\n",
      "File \u001b[0;32m__init__.py:34\u001b[0m, in \u001b[0;36minit qat.qpus.__init__\u001b[0;34m()\u001b[0m\n",
      "File \u001b[0;32mutil.py:400\u001b[0m, in \u001b[0;36mqat.core.util.import_submodules\u001b[0;34m()\u001b[0m\n",
      "File \u001b[0;32m/usr/lib64/python3.9/importlib/__init__.py:127\u001b[0m, in \u001b[0;36mimport_module\u001b[0;34m(name, package)\u001b[0m\n\u001b[1;32m    125\u001b[0m             \u001b[38;5;28;01mbreak\u001b[39;00m\n\u001b[1;32m    126\u001b[0m         level \u001b[38;5;241m+\u001b[39m\u001b[38;5;241m=\u001b[39m \u001b[38;5;241m1\u001b[39m\n\u001b[0;32m--> 127\u001b[0m \u001b[38;5;28;01mreturn\u001b[39;00m \u001b[43m_bootstrap\u001b[49m\u001b[38;5;241;43m.\u001b[39;49m\u001b[43m_gcd_import\u001b[49m\u001b[43m(\u001b[49m\u001b[43mname\u001b[49m\u001b[43m[\u001b[49m\u001b[43mlevel\u001b[49m\u001b[43m:\u001b[49m\u001b[43m]\u001b[49m\u001b[43m,\u001b[49m\u001b[43m \u001b[49m\u001b[43mpackage\u001b[49m\u001b[43m,\u001b[49m\u001b[43m \u001b[49m\u001b[43mlevel\u001b[49m\u001b[43m)\u001b[49m\n",
      "File \u001b[0;32mhook_noisy.py:15\u001b[0m, in \u001b[0;36minit hook_noisy\u001b[0;34m()\u001b[0m\n",
      "File \u001b[0;32m__init__.py:17\u001b[0m, in \u001b[0;36minit qat.noisy.__init__\u001b[0;34m()\u001b[0m\n",
      "File \u001b[0;32mservice.py:38\u001b[0m, in \u001b[0;36minit qat.noisy.service\u001b[0;34m()\u001b[0m\n",
      "File \u001b[0;32mnoisy_simulation.py:23\u001b[0m, in \u001b[0;36minit qat.noisy.noisy_simulation\u001b[0;34m()\u001b[0m\n",
      "File \u001b[0;32mapplication.py:17\u001b[0m, in \u001b[0;36minit qat.core.application\u001b[0;34m()\u001b[0m\n",
      "File \u001b[0;32mqat/comm/application/Application.py:319\u001b[0m, in \u001b[0;36minit qat.comm.application.Application\u001b[0;34m()\u001b[0m\n",
      "\u001b[0;31mAttributeError\u001b[0m: module 'qat.comm.shared.ttypes' has no attribute 'ApplicationResult'"
     ]
    }
   ],
   "source": [
    "import qat.qpus as qpu\n",
    "linalgqpu = qpu.Linalg()"
   ]
  },
  {
   "cell_type": "markdown",
   "metadata": {},
   "source": [
    "We can now submit the job to our simulator.\n",
    "\n",
    "To do so we need to use the function <i>submit</i> on our qpu and passing our job as a parameter:"
   ]
  },
  {
   "cell_type": "code",
   "execution_count": null,
   "metadata": {
    "scrolled": true
   },
   "outputs": [],
   "source": [
    "result = linalgqpu.submit(job)"
   ]
  },
  {
   "cell_type": "markdown",
   "metadata": {},
   "source": [
    "We can now print the results for example like that:"
   ]
  },
  {
   "cell_type": "code",
   "execution_count": null,
   "metadata": {},
   "outputs": [],
   "source": [
    "for sample in result:\n",
    "    print(\"State %s amplitude %s\" % (sample.state, sample.amplitude))"
   ]
  },
  {
   "cell_type": "markdown",
   "metadata": {},
   "source": [
    "This is the first way to create a job: without any parameters. So this is the default case. This way the qpu returns the best it can do. For the simulator LinAlg we have access to all the non-zero states with the information about the amplitude."
   ]
  },
  {
   "cell_type": "markdown",
   "metadata": {},
   "source": [
    "### Strictly emulate"
   ]
  },
  {
   "cell_type": "markdown",
   "metadata": {},
   "source": [
    "The second way is to strictly emulate a qpu. To do so you need to specify the option nbshots a strictly superior to 0. For example:"
   ]
  },
  {
   "cell_type": "code",
   "execution_count": null,
   "metadata": {},
   "outputs": [],
   "source": [
    "# Create a job where we specify the number of shots\n",
    "job = circuit.to_job(nbshots=10)"
   ]
  },
  {
   "cell_type": "markdown",
   "metadata": {},
   "source": [
    "The same way as previously can be used to submit the job to a simulator:"
   ]
  },
  {
   "cell_type": "code",
   "execution_count": null,
   "metadata": {},
   "outputs": [],
   "source": [
    "# Submit to the QPU\n",
    "result = linalgqpu.submit(job)"
   ]
  },
  {
   "cell_type": "markdown",
   "metadata": {},
   "source": [
    "And now print the results:"
   ]
  },
  {
   "cell_type": "code",
   "execution_count": null,
   "metadata": {
    "scrolled": true
   },
   "outputs": [],
   "source": [
    "# And use it to draw 10 samples\n",
    "for sample in result:\n",
    "    print(\"We measured the state {} (its probability is {} and its amplitude {})\".format(sample.state, sample.probability, sample.amplitude))"
   ]
  },
  {
   "cell_type": "markdown",
   "metadata": {},
   "source": [
    "Firstly, as you can see the amplitude is at None since we strictly emulate the behavior of a QPU. And QPU will only end up with only a single measurement without any information on the amplitude.\n",
    "\n",
    "Secondly, by default the results are aggregated. This means we launched 10 times (nbshots=10) the execution of our circuit and made an estimation of the probability for each state based on this sampling.\n",
    "\n",
    "Note : you can execute the previous cell multiple times and you will randomly obtain a state."
   ]
  },
  {
   "cell_type": "markdown",
   "metadata": {},
   "source": [
    " "
   ]
  },
  {
   "cell_type": "markdown",
   "metadata": {},
   "source": [
    "It is possible to create a job without aggregating (aggregate_data=False) the results:"
   ]
  },
  {
   "cell_type": "code",
   "execution_count": null,
   "metadata": {},
   "outputs": [],
   "source": [
    "# Create a job where we specify the number of shots\n",
    "job = circuit.to_job(nbshots=10, aggregate_data=False)"
   ]
  },
  {
   "cell_type": "code",
   "execution_count": null,
   "metadata": {},
   "outputs": [],
   "source": [
    "# Submit to the QPU\n",
    "result = linalgqpu.submit(job)"
   ]
  },
  {
   "cell_type": "code",
   "execution_count": null,
   "metadata": {},
   "outputs": [],
   "source": [
    "# And use it to draw 10 samples\n",
    "for sample in result:\n",
    "    print(\"We measured the state {}\".format(sample.state))"
   ]
  },
  {
   "cell_type": "markdown",
   "metadata": {},
   "source": [
    "As you can see the only information we are getting are the states of each execution."
   ]
  },
  {
   "cell_type": "markdown",
   "metadata": {
    "collapsed": true
   },
   "source": [
    "We have seen how to :\n",
    "+ create a program\n",
    "+ allocate some qubits\n",
    "+ apply gates\n",
    "+ generate a circuit\n",
    "+ create a job (full distribution, strictly emulate, aggregate data)\n",
    "+ submit a job\n",
    "\n",
    "This ends the jupyter notebook of the helloworld."
   ]
  },
  {
   "cell_type": "code",
   "execution_count": null,
   "metadata": {},
   "outputs": [],
   "source": []
  }
 ],
 "metadata": {
  "kernelspec": {
   "display_name": "Python 3 (ipykernel)",
   "language": "python",
   "name": "python3"
  },
  "language_info": {
   "codemirror_mode": {
    "name": "ipython",
    "version": 3
   },
   "file_extension": ".py",
   "mimetype": "text/x-python",
   "name": "python",
   "nbconvert_exporter": "python",
   "pygments_lexer": "ipython3",
   "version": "3.9.7"
  }
 },
 "nbformat": 4,
 "nbformat_minor": 1
}
